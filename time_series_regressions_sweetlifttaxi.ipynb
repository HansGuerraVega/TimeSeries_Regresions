{
 "cells": [
  {
   "cell_type": "markdown",
   "metadata": {},
   "source": [
    "# Project Description\n",
    "\n",
    "Sweet Lift Taxi has collected historical data on taxi requests at airports. To attract more drivers during peak hours, we need to predict the number of taxi requests for the next hour. Build a model for this prediction.\n",
    "\n",
    "The RECM metric on the test set should not exceed 48.\n",
    "\n",
    "## Project instructions.\n",
    "\n",
    "1. Download the data and resample for an hour.\n",
    "2. Analyze the data.\n",
    "3. Train different models with different hyperparameters. The test sample should be 10% of the initial dataset. 4. Test the data using the test sample and provide a conclusion.\n",
    "\n",
    "## Data Description\n",
    "\n",
    "The data is stored in the file `taxi.csv`.\n",
    "The number of orders is in the `num_orders` column."
   ]
  },
  {
   "cell_type": "markdown",
   "metadata": {},
   "source": [
    "## Data Visualization"
   ]
  },
  {
   "cell_type": "code",
   "execution_count": 120,
   "metadata": {},
   "outputs": [],
   "source": [
    "# Library are imported\n",
    "\n",
    "import numpy as np\n",
    "import pandas as pd\n",
    "import matplotlib.pyplot as plt\n",
    "from sklearn.model_selection import train_test_split\n",
    "from sklearn.linear_model import LinearRegression\n",
    "from sklearn.metrics import mean_squared_error\n",
    "from sklearn.tree import DecisionTreeRegressor\n",
    "from sklearn.ensemble import RandomForestRegressor\n",
    "import lightgbm as lgb\n",
    "from xgboost import XGBRegressor\n",
    "from sklearn.model_selection import cross_val_score\n",
    "from statsmodels.tsa.seasonal import seasonal_decompose\n",
    "from IPython.display import display"
   ]
  },
  {
   "cell_type": "code",
   "execution_count": 13,
   "metadata": {},
   "outputs": [
    {
     "data": {
      "text/html": [
       "<div>\n",
       "<style scoped>\n",
       "    .dataframe tbody tr th:only-of-type {\n",
       "        vertical-align: middle;\n",
       "    }\n",
       "\n",
       "    .dataframe tbody tr th {\n",
       "        vertical-align: top;\n",
       "    }\n",
       "\n",
       "    .dataframe thead th {\n",
       "        text-align: right;\n",
       "    }\n",
       "</style>\n",
       "<table border=\"1\" class=\"dataframe\">\n",
       "  <thead>\n",
       "    <tr style=\"text-align: right;\">\n",
       "      <th></th>\n",
       "      <th>num_orders</th>\n",
       "    </tr>\n",
       "    <tr>\n",
       "      <th>datetime</th>\n",
       "      <th></th>\n",
       "    </tr>\n",
       "  </thead>\n",
       "  <tbody>\n",
       "    <tr>\n",
       "      <th>2018-03-01 00:00:00</th>\n",
       "      <td>9</td>\n",
       "    </tr>\n",
       "    <tr>\n",
       "      <th>2018-03-01 00:10:00</th>\n",
       "      <td>14</td>\n",
       "    </tr>\n",
       "    <tr>\n",
       "      <th>2018-03-01 00:20:00</th>\n",
       "      <td>28</td>\n",
       "    </tr>\n",
       "    <tr>\n",
       "      <th>2018-03-01 00:30:00</th>\n",
       "      <td>20</td>\n",
       "    </tr>\n",
       "    <tr>\n",
       "      <th>2018-03-01 00:40:00</th>\n",
       "      <td>32</td>\n",
       "    </tr>\n",
       "    <tr>\n",
       "      <th>...</th>\n",
       "      <td>...</td>\n",
       "    </tr>\n",
       "    <tr>\n",
       "      <th>2018-08-31 23:10:00</th>\n",
       "      <td>32</td>\n",
       "    </tr>\n",
       "    <tr>\n",
       "      <th>2018-08-31 23:20:00</th>\n",
       "      <td>24</td>\n",
       "    </tr>\n",
       "    <tr>\n",
       "      <th>2018-08-31 23:30:00</th>\n",
       "      <td>27</td>\n",
       "    </tr>\n",
       "    <tr>\n",
       "      <th>2018-08-31 23:40:00</th>\n",
       "      <td>39</td>\n",
       "    </tr>\n",
       "    <tr>\n",
       "      <th>2018-08-31 23:50:00</th>\n",
       "      <td>53</td>\n",
       "    </tr>\n",
       "  </tbody>\n",
       "</table>\n",
       "<p>26496 rows × 1 columns</p>\n",
       "</div>"
      ],
      "text/plain": [
       "                     num_orders\n",
       "datetime                       \n",
       "2018-03-01 00:00:00           9\n",
       "2018-03-01 00:10:00          14\n",
       "2018-03-01 00:20:00          28\n",
       "2018-03-01 00:30:00          20\n",
       "2018-03-01 00:40:00          32\n",
       "...                         ...\n",
       "2018-08-31 23:10:00          32\n",
       "2018-08-31 23:20:00          24\n",
       "2018-08-31 23:30:00          27\n",
       "2018-08-31 23:40:00          39\n",
       "2018-08-31 23:50:00          53\n",
       "\n",
       "[26496 rows x 1 columns]"
      ]
     },
     "metadata": {},
     "output_type": "display_data"
    }
   ],
   "source": [
    "# Data is displayed\n",
    "\n",
    "df = pd.read_csv('taxi.csv', index_col=[0], parse_dates=[0])\n",
    "display(df)"
   ]
  },
  {
   "cell_type": "code",
   "execution_count": 15,
   "metadata": {},
   "outputs": [
    {
     "name": "stdout",
     "output_type": "stream",
     "text": [
      "<class 'pandas.core.frame.DataFrame'>\n",
      "DatetimeIndex: 26496 entries, 2018-03-01 00:00:00 to 2018-08-31 23:50:00\n",
      "Data columns (total 1 columns):\n",
      " #   Column      Non-Null Count  Dtype\n",
      "---  ------      --------------  -----\n",
      " 0   num_orders  26496 non-null  int64\n",
      "dtypes: int64(1)\n",
      "memory usage: 414.0 KB\n"
     ]
    }
   ],
   "source": [
    "# Relevant information is displayed\n",
    "\n",
    "df.info()"
   ]
  },
  {
   "cell_type": "code",
   "execution_count": 17,
   "metadata": {},
   "outputs": [
    {
     "name": "stdout",
     "output_type": "stream",
     "text": [
      "26415\n",
      "num_orders    0\n",
      "dtype: int64\n"
     ]
    }
   ],
   "source": [
    "# Duplicates and their number are shown\n",
    "\n",
    "print(df.duplicated().sum())\n",
    "print(df.isnull().sum())"
   ]
  },
  {
   "cell_type": "code",
   "execution_count": 18,
   "metadata": {},
   "outputs": [
    {
     "data": {
      "text/html": [
       "<div>\n",
       "<style scoped>\n",
       "    .dataframe tbody tr th:only-of-type {\n",
       "        vertical-align: middle;\n",
       "    }\n",
       "\n",
       "    .dataframe tbody tr th {\n",
       "        vertical-align: top;\n",
       "    }\n",
       "\n",
       "    .dataframe thead th {\n",
       "        text-align: right;\n",
       "    }\n",
       "</style>\n",
       "<table border=\"1\" class=\"dataframe\">\n",
       "  <thead>\n",
       "    <tr style=\"text-align: right;\">\n",
       "      <th></th>\n",
       "      <th>num_orders</th>\n",
       "    </tr>\n",
       "  </thead>\n",
       "  <tbody>\n",
       "    <tr>\n",
       "      <th>count</th>\n",
       "      <td>26496.000000</td>\n",
       "    </tr>\n",
       "    <tr>\n",
       "      <th>mean</th>\n",
       "      <td>14.070463</td>\n",
       "    </tr>\n",
       "    <tr>\n",
       "      <th>std</th>\n",
       "      <td>9.211330</td>\n",
       "    </tr>\n",
       "    <tr>\n",
       "      <th>min</th>\n",
       "      <td>0.000000</td>\n",
       "    </tr>\n",
       "    <tr>\n",
       "      <th>25%</th>\n",
       "      <td>8.000000</td>\n",
       "    </tr>\n",
       "    <tr>\n",
       "      <th>50%</th>\n",
       "      <td>13.000000</td>\n",
       "    </tr>\n",
       "    <tr>\n",
       "      <th>75%</th>\n",
       "      <td>19.000000</td>\n",
       "    </tr>\n",
       "    <tr>\n",
       "      <th>max</th>\n",
       "      <td>119.000000</td>\n",
       "    </tr>\n",
       "  </tbody>\n",
       "</table>\n",
       "</div>"
      ],
      "text/plain": [
       "         num_orders\n",
       "count  26496.000000\n",
       "mean      14.070463\n",
       "std        9.211330\n",
       "min        0.000000\n",
       "25%        8.000000\n",
       "50%       13.000000\n",
       "75%       19.000000\n",
       "max      119.000000"
      ]
     },
     "execution_count": 18,
     "metadata": {},
     "output_type": "execute_result"
    }
   ],
   "source": [
    "# Metrics for numerical variables are shown\n",
    "\n",
    "df.describe()"
   ]
  },
  {
   "cell_type": "markdown",
   "metadata": {},
   "source": [
    "**Observations**\n",
    "\n",
    "1. It is observed that the column names are in a simple format, there are no null values ​​or duplicate rows, the order metrics have normal values.\n",
    "2. The only parameter to change is the variable type of the datetime column, set it as an index and sort them ascendingly by time."
   ]
  },
  {
   "cell_type": "markdown",
   "metadata": {},
   "source": [
    "## Analysis"
   ]
  },
  {
   "cell_type": "code",
   "execution_count": 53,
   "metadata": {},
   "outputs": [
    {
     "data": {
      "text/html": [
       "<div>\n",
       "<style scoped>\n",
       "    .dataframe tbody tr th:only-of-type {\n",
       "        vertical-align: middle;\n",
       "    }\n",
       "\n",
       "    .dataframe tbody tr th {\n",
       "        vertical-align: top;\n",
       "    }\n",
       "\n",
       "    .dataframe thead th {\n",
       "        text-align: right;\n",
       "    }\n",
       "</style>\n",
       "<table border=\"1\" class=\"dataframe\">\n",
       "  <thead>\n",
       "    <tr style=\"text-align: right;\">\n",
       "      <th></th>\n",
       "      <th>num_orders</th>\n",
       "      <th>year</th>\n",
       "      <th>month</th>\n",
       "      <th>dayofweek</th>\n",
       "      <th>hour</th>\n",
       "      <th>lag_1</th>\n",
       "      <th>lag_2</th>\n",
       "      <th>lag_3</th>\n",
       "      <th>lag_4</th>\n",
       "      <th>lag_5</th>\n",
       "      <th>lag_6</th>\n",
       "      <th>rolling_mean</th>\n",
       "    </tr>\n",
       "    <tr>\n",
       "      <th>datetime</th>\n",
       "      <th></th>\n",
       "      <th></th>\n",
       "      <th></th>\n",
       "      <th></th>\n",
       "      <th></th>\n",
       "      <th></th>\n",
       "      <th></th>\n",
       "      <th></th>\n",
       "      <th></th>\n",
       "      <th></th>\n",
       "      <th></th>\n",
       "      <th></th>\n",
       "    </tr>\n",
       "  </thead>\n",
       "  <tbody>\n",
       "    <tr>\n",
       "      <th>2018-03-01 00:00:00</th>\n",
       "      <td>124</td>\n",
       "      <td>2018</td>\n",
       "      <td>3</td>\n",
       "      <td>3</td>\n",
       "      <td>0</td>\n",
       "      <td>0.0</td>\n",
       "      <td>0.0</td>\n",
       "      <td>0.0</td>\n",
       "      <td>0.0</td>\n",
       "      <td>0.0</td>\n",
       "      <td>0.0</td>\n",
       "      <td>0.0</td>\n",
       "    </tr>\n",
       "    <tr>\n",
       "      <th>2018-03-01 01:00:00</th>\n",
       "      <td>85</td>\n",
       "      <td>2018</td>\n",
       "      <td>3</td>\n",
       "      <td>3</td>\n",
       "      <td>1</td>\n",
       "      <td>124.0</td>\n",
       "      <td>0.0</td>\n",
       "      <td>0.0</td>\n",
       "      <td>0.0</td>\n",
       "      <td>0.0</td>\n",
       "      <td>0.0</td>\n",
       "      <td>0.0</td>\n",
       "    </tr>\n",
       "    <tr>\n",
       "      <th>2018-03-01 02:00:00</th>\n",
       "      <td>71</td>\n",
       "      <td>2018</td>\n",
       "      <td>3</td>\n",
       "      <td>3</td>\n",
       "      <td>2</td>\n",
       "      <td>85.0</td>\n",
       "      <td>124.0</td>\n",
       "      <td>0.0</td>\n",
       "      <td>0.0</td>\n",
       "      <td>0.0</td>\n",
       "      <td>0.0</td>\n",
       "      <td>0.0</td>\n",
       "    </tr>\n",
       "    <tr>\n",
       "      <th>2018-03-01 03:00:00</th>\n",
       "      <td>66</td>\n",
       "      <td>2018</td>\n",
       "      <td>3</td>\n",
       "      <td>3</td>\n",
       "      <td>3</td>\n",
       "      <td>71.0</td>\n",
       "      <td>85.0</td>\n",
       "      <td>124.0</td>\n",
       "      <td>0.0</td>\n",
       "      <td>0.0</td>\n",
       "      <td>0.0</td>\n",
       "      <td>0.0</td>\n",
       "    </tr>\n",
       "    <tr>\n",
       "      <th>2018-03-01 04:00:00</th>\n",
       "      <td>43</td>\n",
       "      <td>2018</td>\n",
       "      <td>3</td>\n",
       "      <td>3</td>\n",
       "      <td>4</td>\n",
       "      <td>66.0</td>\n",
       "      <td>71.0</td>\n",
       "      <td>85.0</td>\n",
       "      <td>124.0</td>\n",
       "      <td>0.0</td>\n",
       "      <td>0.0</td>\n",
       "      <td>0.0</td>\n",
       "    </tr>\n",
       "    <tr>\n",
       "      <th>...</th>\n",
       "      <td>...</td>\n",
       "      <td>...</td>\n",
       "      <td>...</td>\n",
       "      <td>...</td>\n",
       "      <td>...</td>\n",
       "      <td>...</td>\n",
       "      <td>...</td>\n",
       "      <td>...</td>\n",
       "      <td>...</td>\n",
       "      <td>...</td>\n",
       "      <td>...</td>\n",
       "      <td>...</td>\n",
       "    </tr>\n",
       "    <tr>\n",
       "      <th>2018-08-31 19:00:00</th>\n",
       "      <td>136</td>\n",
       "      <td>2018</td>\n",
       "      <td>8</td>\n",
       "      <td>4</td>\n",
       "      <td>19</td>\n",
       "      <td>207.0</td>\n",
       "      <td>217.0</td>\n",
       "      <td>197.0</td>\n",
       "      <td>116.0</td>\n",
       "      <td>133.0</td>\n",
       "      <td>166.0</td>\n",
       "      <td>173.3</td>\n",
       "    </tr>\n",
       "    <tr>\n",
       "      <th>2018-08-31 20:00:00</th>\n",
       "      <td>154</td>\n",
       "      <td>2018</td>\n",
       "      <td>8</td>\n",
       "      <td>4</td>\n",
       "      <td>20</td>\n",
       "      <td>136.0</td>\n",
       "      <td>207.0</td>\n",
       "      <td>217.0</td>\n",
       "      <td>197.0</td>\n",
       "      <td>116.0</td>\n",
       "      <td>133.0</td>\n",
       "      <td>166.6</td>\n",
       "    </tr>\n",
       "    <tr>\n",
       "      <th>2018-08-31 21:00:00</th>\n",
       "      <td>159</td>\n",
       "      <td>2018</td>\n",
       "      <td>8</td>\n",
       "      <td>4</td>\n",
       "      <td>21</td>\n",
       "      <td>154.0</td>\n",
       "      <td>136.0</td>\n",
       "      <td>207.0</td>\n",
       "      <td>217.0</td>\n",
       "      <td>197.0</td>\n",
       "      <td>116.0</td>\n",
       "      <td>162.9</td>\n",
       "    </tr>\n",
       "    <tr>\n",
       "      <th>2018-08-31 22:00:00</th>\n",
       "      <td>223</td>\n",
       "      <td>2018</td>\n",
       "      <td>8</td>\n",
       "      <td>4</td>\n",
       "      <td>22</td>\n",
       "      <td>159.0</td>\n",
       "      <td>154.0</td>\n",
       "      <td>136.0</td>\n",
       "      <td>207.0</td>\n",
       "      <td>217.0</td>\n",
       "      <td>197.0</td>\n",
       "      <td>162.1</td>\n",
       "    </tr>\n",
       "    <tr>\n",
       "      <th>2018-08-31 23:00:00</th>\n",
       "      <td>205</td>\n",
       "      <td>2018</td>\n",
       "      <td>8</td>\n",
       "      <td>4</td>\n",
       "      <td>23</td>\n",
       "      <td>223.0</td>\n",
       "      <td>159.0</td>\n",
       "      <td>154.0</td>\n",
       "      <td>136.0</td>\n",
       "      <td>207.0</td>\n",
       "      <td>217.0</td>\n",
       "      <td>170.8</td>\n",
       "    </tr>\n",
       "  </tbody>\n",
       "</table>\n",
       "<p>4416 rows × 12 columns</p>\n",
       "</div>"
      ],
      "text/plain": [
       "                     num_orders  year  month  dayofweek  hour  lag_1  lag_2  \\\n",
       "datetime                                                                      \n",
       "2018-03-01 00:00:00         124  2018      3          3     0    0.0    0.0   \n",
       "2018-03-01 01:00:00          85  2018      3          3     1  124.0    0.0   \n",
       "2018-03-01 02:00:00          71  2018      3          3     2   85.0  124.0   \n",
       "2018-03-01 03:00:00          66  2018      3          3     3   71.0   85.0   \n",
       "2018-03-01 04:00:00          43  2018      3          3     4   66.0   71.0   \n",
       "...                         ...   ...    ...        ...   ...    ...    ...   \n",
       "2018-08-31 19:00:00         136  2018      8          4    19  207.0  217.0   \n",
       "2018-08-31 20:00:00         154  2018      8          4    20  136.0  207.0   \n",
       "2018-08-31 21:00:00         159  2018      8          4    21  154.0  136.0   \n",
       "2018-08-31 22:00:00         223  2018      8          4    22  159.0  154.0   \n",
       "2018-08-31 23:00:00         205  2018      8          4    23  223.0  159.0   \n",
       "\n",
       "                     lag_3  lag_4  lag_5  lag_6  rolling_mean  \n",
       "datetime                                                       \n",
       "2018-03-01 00:00:00    0.0    0.0    0.0    0.0           0.0  \n",
       "2018-03-01 01:00:00    0.0    0.0    0.0    0.0           0.0  \n",
       "2018-03-01 02:00:00    0.0    0.0    0.0    0.0           0.0  \n",
       "2018-03-01 03:00:00  124.0    0.0    0.0    0.0           0.0  \n",
       "2018-03-01 04:00:00   85.0  124.0    0.0    0.0           0.0  \n",
       "...                    ...    ...    ...    ...           ...  \n",
       "2018-08-31 19:00:00  197.0  116.0  133.0  166.0         173.3  \n",
       "2018-08-31 20:00:00  217.0  197.0  116.0  133.0         166.6  \n",
       "2018-08-31 21:00:00  207.0  217.0  197.0  116.0         162.9  \n",
       "2018-08-31 22:00:00  136.0  207.0  217.0  197.0         162.1  \n",
       "2018-08-31 23:00:00  154.0  136.0  207.0  217.0         170.8  \n",
       "\n",
       "[4416 rows x 12 columns]"
      ]
     },
     "metadata": {},
     "output_type": "display_data"
    },
    {
     "name": "stdout",
     "output_type": "stream",
     "text": [
      "True\n",
      "<class 'pandas.core.frame.DataFrame'>\n",
      "DatetimeIndex: 4416 entries, 2018-03-01 00:00:00 to 2018-08-31 23:00:00\n",
      "Freq: h\n",
      "Data columns (total 12 columns):\n",
      " #   Column        Non-Null Count  Dtype  \n",
      "---  ------        --------------  -----  \n",
      " 0   num_orders    4416 non-null   int64  \n",
      " 1   year          4416 non-null   int32  \n",
      " 2   month         4416 non-null   int32  \n",
      " 3   dayofweek     4416 non-null   int32  \n",
      " 4   hour          4416 non-null   int32  \n",
      " 5   lag_1         4416 non-null   float64\n",
      " 6   lag_2         4416 non-null   float64\n",
      " 7   lag_3         4416 non-null   float64\n",
      " 8   lag_4         4416 non-null   float64\n",
      " 9   lag_5         4416 non-null   float64\n",
      " 10  lag_6         4416 non-null   float64\n",
      " 11  rolling_mean  4416 non-null   float64\n",
      "dtypes: float64(7), int32(4), int64(1)\n",
      "memory usage: 379.5 KB\n"
     ]
    }
   ],
   "source": [
    "# Dataframe adjustment\n",
    "df.sort_index(inplace=True)\n",
    "df = df.resample('1h').sum()\n",
    "display(df)\n",
    "print(df.index.is_monotonic_increasing)\n",
    "df.info()"
   ]
  },
  {
   "cell_type": "code",
   "execution_count": 55,
   "metadata": {},
   "outputs": [
    {
     "data": {
      "image/png": "[encoded data removed]",
      "text/plain": [
       "<Figure size 1000x600 with 1 Axes>"
      ]
     },
     "metadata": {},
     "output_type": "display_data"
    }
   ],
   "source": [
    "# Taxi ordering trend\n",
    "plt.figure(figsize=(10, 6))\n",
    "plt.plot(df.index, df['num_orders'], label='Orders per hour')\n",
    "plt.title('Taxi ordering trend')\n",
    "plt.xlabel('Date')\n",
    "plt.ylabel('Orders Number')\n",
    "plt.legend()\n",
    "plt.show()"
   ]
  },
  {
   "cell_type": "code",
   "execution_count": 69,
   "metadata": {},
   "outputs": [
    {
     "data": {
      "image/png": "[encoded data removed]",
      "text/plain": [
       "<Figure size 600x800 with 3 Axes>"
      ]
     },
     "metadata": {},
     "output_type": "display_data"
    }
   ],
   "source": [
    "df_plt = df['2018-03':'2018-04'].resample('1h').sum()\n",
    "\n",
    "decomposed = seasonal_decompose(df_plt['num_orders'], model='additive')\n",
    "\n",
    "plt.figure(figsize=(6, 8))\n",
    "plt.subplot(311)\n",
    "# To display the chart correctly, specify its\n",
    "# ax-axis equal to plt.gca() (gca = get current axis)\n",
    "decomposed.trend.plot(ax=plt.gca())\n",
    "plt.title('Trend')\n",
    "plt.subplot(312)\n",
    "decomposed.seasonal.plot(ax=plt.gca())\n",
    "plt.title('Seasonality')\n",
    "plt.subplot(313)\n",
    "decomposed.resid.plot(ax=plt.gca())\n",
    "plt.title('Residuals')\n",
    "plt.tight_layout()"
   ]
  },
  {
   "cell_type": "code",
   "execution_count": 118,
   "metadata": {},
   "outputs": [
    {
     "data": {
      "image/png": "[encoded data removed]",
      "text/plain": [
       "<Figure size 1000x500 with 1 Axes>"
      ]
     },
     "metadata": {},
     "output_type": "display_data"
    }
   ],
   "source": [
    "data = df['2018-03':'2018-05'].resample('1D').sum()\n",
    "data['num_orders'] = data['num_orders'] - data['num_orders'].shift()\n",
    "\n",
    "# Calculating moving mean and standard deviation\n",
    "data['mean'] = data['num_orders'].rolling(15).mean()\n",
    "data['std'] = data['num_orders'].rolling(15).std()\n",
    "\n",
    "# Plot only the desired columns\n",
    "plt.figure(figsize=(10, 5))\n",
    "plt.plot(data.index, data['num_orders'], label='num_orders', alpha=0.6)\n",
    "plt.plot(data.index, data['mean'], label='Rolling Mean (15d)', color='green')\n",
    "plt.plot(data.index, data['std'], label='Rolling Std (15d)', color='orange')\n",
    "\n",
    "plt.title('Daily orders and mobile statistics')\n",
    "plt.xlabel('Date')\n",
    "plt.ylabel('Number of orders')\n",
    "plt.legend()\n",
    "plt.tight_layout()\n",
    "plt.show()"
   ]
  },
  {
   "cell_type": "markdown",
   "metadata": {},
   "source": [
    "We can see from the graphs that it is a stochastic process since the distribution does not depend on time, it has a trend that can be seen when graphing a month and it has a season, this tells us that we can predict with this data."
   ]
  },
  {
   "cell_type": "markdown",
   "metadata": {},
   "source": [
    "## Models"
   ]
  },
  {
   "cell_type": "code",
   "execution_count": 83,
   "metadata": {},
   "outputs": [],
   "source": [
    "# Function to create the features\n",
    "def make_features(df, max_lag, rolling_mean_size):\n",
    "    df['year'] = df.index.year\n",
    "    df['month'] = df.index.month\n",
    "    df['dayofweek'] = df.index.dayofweek\n",
    "    df['hour'] = df.index.hour\n",
    "    \n",
    "    for lag in range(1, max_lag+1):\n",
    "        df['lag_{}'.format(lag)] = df['num_orders'].shift(lag)\n",
    "        \n",
    "    df['rolling_mean'] = df['num_orders'].shift().rolling(rolling_mean_size).mean()"
   ]
  },
  {
   "cell_type": "code",
   "execution_count": 85,
   "metadata": {},
   "outputs": [],
   "source": [
    "# Division into training and testing\n",
    "make_features(df, 6, 10)\n",
    "\n",
    "df1 = df.dropna()\n",
    "X = df1.drop(['num_orders'], axis = 1)\n",
    "y = df1['num_orders']\n",
    "\n",
    "X_train, X_test, y_train, y_test = train_test_split(X, y, shuffle = False, test_size = 0.1, random_state=12345)"
   ]
  },
  {
   "cell_type": "code",
   "execution_count": 87,
   "metadata": {},
   "outputs": [
    {
     "name": "stdout",
     "output_type": "stream",
     "text": [
      "\n",
      "Model: Linear Regression\n",
      "RECM: 30.63\n"
     ]
    }
   ],
   "source": [
    "# Model 1\n",
    "model_lr = LinearRegression()\n",
    "model_lr.fit(X_train, y_train)\n",
    "pred_train = model_lr.predict(X_train)\n",
    "rmse_lr = np.sqrt(mean_squared_error(y_train, pred_train))\n",
    "\n",
    "print(\"\\nModel: Linear Regression\")\n",
    "print(f\"RECM: {rmse_lr:.2f}\")"
   ]
  },
  {
   "cell_type": "code",
   "execution_count": 89,
   "metadata": {},
   "outputs": [
    {
     "name": "stdout",
     "output_type": "stream",
     "text": [
      "\n",
      "Model: XGBRegressor\n",
      "RECM: 15.92\n"
     ]
    }
   ],
   "source": [
    "# XGB Regressor model 4\n",
    "# Model configuration\n",
    "params = {\n",
    "    'objective': 'reg:squarederror',\n",
    "    'learning_rate': 0.2,\n",
    "    'max_depth': 5,\n",
    "    'n_estimators': 50,\n",
    "}\n",
    "\n",
    "xgb_model = XGBRegressor(**params)\n",
    "xgb_model.fit(X_train, y_train)\n",
    "pred_xgb = xgb_model.predict(X_train)\n",
    "\n",
    "rmse_xgb = np.sqrt(mean_squared_error(y_train, pred_xgb))\n",
    "\n",
    "print(\"\\nModel: XGBRegressor\")\n",
    "print(f\"RECM: {rmse_xgb:.2f}\")"
   ]
  },
  {
   "cell_type": "code",
   "execution_count": 93,
   "metadata": {
    "collapsed": true,
    "jupyter": {
     "outputs_hidden": true
    }
   },
   "outputs": [
    {
     "name": "stdout",
     "output_type": "stream",
     "text": [
      "[LightGBM] [Info] Auto-choosing col-wise multi-threading, the overhead of testing was 0.000162 seconds.\n",
      "You can set `force_col_wise=true` to remove the overhead.\n",
      "[LightGBM] [Info] Total Bins 1433\n",
      "[LightGBM] [Info] Number of data points in the train set: 3965, number of used features: 10\n",
      "[LightGBM] [Info] Start training from score 78.361665\n",
      "[LightGBM] [Warning] No further splits with positive gain, best gain: -inf\n",
      "[LightGBM] [Warning] No further splits with positive gain, best gain: -inf\n",
      "[LightGBM] [Warning] No further splits with positive gain, best gain: -inf\n",
      "[LightGBM] [Warning] No further splits with positive gain, best gain: -inf\n",
      "[LightGBM] [Warning] No further splits with positive gain, best gain: -inf\n",
      "[LightGBM] [Warning] No further splits with positive gain, best gain: -inf\n",
      "[LightGBM] [Warning] No further splits with positive gain, best gain: -inf\n",
      "[LightGBM] [Warning] No further splits with positive gain, best gain: -inf\n",
      "[LightGBM] [Warning] No further splits with positive gain, best gain: -inf\n",
      "[LightGBM] [Warning] No further splits with positive gain, best gain: -inf\n",
      "[LightGBM] [Warning] No further splits with positive gain, best gain: -inf\n",
      "[LightGBM] [Warning] No further splits with positive gain, best gain: -inf\n",
      "[LightGBM] [Warning] No further splits with positive gain, best gain: -inf\n",
      "[LightGBM] [Warning] No further splits with positive gain, best gain: -inf\n",
      "[LightGBM] [Warning] No further splits with positive gain, best gain: -inf\n",
      "[LightGBM] [Warning] No further splits with positive gain, best gain: -inf\n",
      "[LightGBM] [Warning] No further splits with positive gain, best gain: -inf\n",
      "[LightGBM] [Warning] No further splits with positive gain, best gain: -inf\n",
      "[LightGBM] [Warning] No further splits with positive gain, best gain: -inf\n",
      "[LightGBM] [Warning] No further splits with positive gain, best gain: -inf\n",
      "[LightGBM] [Warning] No further splits with positive gain, best gain: -inf\n",
      "[LightGBM] [Warning] No further splits with positive gain, best gain: -inf\n",
      "[LightGBM] [Warning] No further splits with positive gain, best gain: -inf\n",
      "[LightGBM] [Warning] No further splits with positive gain, best gain: -inf\n",
      "[LightGBM] [Warning] No further splits with positive gain, best gain: -inf\n",
      "[LightGBM] [Warning] No further splits with positive gain, best gain: -inf\n",
      "\n",
      "Model: LightGBM\n",
      "RECM: 15.60\n"
     ]
    }
   ],
   "source": [
    "# LightGBM model 5 \n",
    "\n",
    "# Model configuration\n",
    "params = {\n",
    "    'objective': 'regression',\n",
    "    'metric': 'rmse',\n",
    "    'learning_rate': 0.1,\n",
    "    'max_depth': 10,\n",
    "    'n_estimators': 100,\n",
    "}\n",
    "\n",
    "lgb_model = lgb.LGBMRegressor(**params)\n",
    "lgb_model.fit(X_train, y_train)\n",
    "\n",
    "# Prediction and evaluation\n",
    "y_pred_lgbm = lgb_model.predict(X_train)\n",
    "rmse_lgbm = mean_squared_error(y_train, y_pred_lgbm)\n",
    "rmse_lgbm = np.sqrt(rmse_lgbm)\n",
    "\n",
    "print(\"\\nModel: LightGBM\")\n",
    "print(f\"RECM: {rmse_lgbm:.2f}\")"
   ]
  },
  {
   "cell_type": "markdown",
   "metadata": {},
   "source": [
    "## Test\n"
   ]
  },
  {
   "cell_type": "code",
   "execution_count": 96,
   "metadata": {},
   "outputs": [
    {
     "name": "stdout",
     "output_type": "stream",
     "text": [
      "RECM: 53.90\n",
      "\n",
      "Model: Linear Regression)\n",
      "CV: 0.1617756736662486\n"
     ]
    }
   ],
   "source": [
    "# Model 1\n",
    "\n",
    "pred_test = model_lr.predict(X_test)\n",
    "rmse_lr = np.sqrt(mean_squared_error(y_test, pred_test))\n",
    "scores = cross_val_score(model_lr, X_test, y_test, cv=5)\n",
    "\n",
    "print(f\"RECM: {rmse_lr:.2f}\")\n",
    "print(f\"\\nModel: Linear Regression)\")\n",
    "print(\"CV:\", scores.mean())"
   ]
  },
  {
   "cell_type": "code",
   "execution_count": 101,
   "metadata": {},
   "outputs": [
    {
     "name": "stdout",
     "output_type": "stream",
     "text": [
      "\n",
      "Model: Decision Tree (max_depth=5)\n",
      "RECM: 56.69\n",
      "CV: 0.4260202387449604\n",
      "\n",
      "Model: Decision Tree (max_depth=10)\n",
      "RECM: 47.69\n",
      "CV: 0.24418753441222946\n",
      "\n",
      "Model: Decision Tree (max_depth=15)\n",
      "RECM: 53.16\n",
      "CV: 0.21725477660954837\n",
      "\n",
      "Model: Decision Tree (max_depth=20)\n",
      "RECM: 59.97\n",
      "CV: 0.17692886003075373\n"
     ]
    }
   ],
   "source": [
    "# Desicion Tree Model 2\n",
    "max_depth_values = [5, 10, 15, 20]\n",
    "\n",
    "for depth in max_depth_values:\n",
    "    dt_model = DecisionTreeRegressor(max_depth=depth, random_state=12345)\n",
    "    dt_model.fit(X_train, y_train)\n",
    "\n",
    "    # Prediction and evaluation\n",
    "    y_pred_dt = dt_model.predict(X_test)\n",
    "    rmse = mean_squared_error(y_test, y_pred_dt)\n",
    "    rmse = np.sqrt(rmse)\n",
    "    \n",
    "    scores = cross_val_score(dt_model, X_test, y_test, cv=5)\n",
    "\n",
    "    print(f\"\\nModel: Decision Tree (max_depth={depth})\")\n",
    "    print(f\"RECM: {rmse:.2f}\")\n",
    "    print(\"CV:\", scores.mean())"
   ]
  },
  {
   "cell_type": "code",
   "execution_count": 103,
   "metadata": {},
   "outputs": [
    {
     "name": "stdout",
     "output_type": "stream",
     "text": [
      "\n",
      "Model: Random Forest (n_estimators=50 y max_depth=5)\n",
      "RECM: 54.61\n",
      "CV: 0.49252721573139996\n",
      "\n",
      "Model: Random Forest (n_estimators=50 y max_depth=10)\n",
      "RECM: 47.54\n",
      "CV: 0.5032692948423966\n",
      "\n",
      "Model: Random Forest (n_estimators=50 y max_depth=15)\n",
      "RECM: 45.98\n",
      "CV: 0.4988002298065206\n",
      "\n",
      "Model: Random Forest (n_estimators=75 y max_depth=5)\n",
      "RECM: 54.39\n",
      "CV: 0.4852938537023312\n",
      "\n",
      "Model: Random Forest (n_estimators=75 y max_depth=10)\n",
      "RECM: 47.28\n",
      "CV: 0.4985505885420836\n",
      "\n",
      "Model: Random Forest (n_estimators=75 y max_depth=15)\n",
      "RECM: 45.78\n",
      "CV: 0.4976079073098429\n",
      "\n",
      "Model: Random Forest (n_estimators=100 y max_depth=5)\n",
      "RECM: 54.34\n",
      "CV: 0.4910457655668095\n",
      "\n",
      "Model: Random Forest (n_estimators=100 y max_depth=10)\n",
      "RECM: 46.84\n",
      "CV: 0.5063077769282994\n",
      "\n",
      "Model: Random Forest (n_estimators=100 y max_depth=15)\n",
      "RECM: 45.31\n",
      "CV: 0.5038225781400781\n"
     ]
    }
   ],
   "source": [
    "# Random Forest Model 3\n",
    "\n",
    "# Hyperparameters to tune\n",
    "n_estimators_values = [50, 75, 100]\n",
    "max_depth_values=[5, 10, 15]\n",
    "\n",
    "for estimators in n_estimators_values:\n",
    "    for max_depth in max_depth_values:\n",
    "        rf_model = RandomForestRegressor(n_estimators=estimators, max_depth=max_depth, random_state=12345)\n",
    "        rf_model.fit(X_train, y_train)\n",
    "\n",
    "        # Prediction and evaluation\n",
    "        y_pred = rf_model.predict(X_test)\n",
    "        rmse = mean_squared_error(y_test, y_pred)\n",
    "        rmse = np.sqrt(rmse)\n",
    "        scores = cross_val_score(rf_model, X_test, y_test, cv=5)\n",
    "\n",
    "        print(f\"\\nModel: Random Forest (n_estimators={estimators} y max_depth={max_depth})\")\n",
    "        print(f\"RECM: {rmse:.2f}\")\n",
    "        print(\"CV:\", scores.mean())\n",
    "    del rf_model, rmse, y_pred"
   ]
  },
  {
   "cell_type": "code",
   "execution_count": 106,
   "metadata": {},
   "outputs": [
    {
     "name": "stdout",
     "output_type": "stream",
     "text": [
      "\n",
      "Model: XGBoost\n",
      "RECM: 47.20\n",
      "CV: 0.47480628490447996\n"
     ]
    }
   ],
   "source": [
    "# XGB Regressor model 4\n",
    "\n",
    "# Prediction and evaluation\n",
    "pred_xgb = xgb_model.predict(X_test)\n",
    "rmse_xgb = mean_squared_error(y_test, pred_xgb)\n",
    "rmse_xgb = np.sqrt(rmse_xgb)\n",
    "scores = cross_val_score(xgb_model, X_test, y_test, cv=5)\n",
    "\n",
    "print(\"\\nModel: XGBoost\")\n",
    "print(f\"RECM: {rmse_xgb:.2f}\")\n",
    "print(\"CV:\", scores.mean())"
   ]
  },
  {
   "cell_type": "code",
   "execution_count": 110,
   "metadata": {},
   "outputs": [
    {
     "name": "stdout",
     "output_type": "stream",
     "text": [
      "[LightGBM] [Info] Auto-choosing col-wise multi-threading, the overhead of testing was 0.000059 seconds.\n",
      "You can set `force_col_wise=true` to remove the overhead.\n",
      "[LightGBM] [Info] Total Bins 697\n",
      "[LightGBM] [Info] Number of data points in the train set: 352, number of used features: 9\n",
      "[LightGBM] [Info] Start training from score 143.250000\n",
      "[LightGBM] [Warning] No further splits with positive gain, best gain: -inf\n",
      "[LightGBM] [Warning] No further splits with positive gain, best gain: -inf\n",
      "[LightGBM] [Warning] No further splits with positive gain, best gain: -inf\n",
      "[LightGBM] [Warning] No further splits with positive gain, best gain: -inf\n",
      "[LightGBM] [Warning] No further splits with positive gain, best gain: -inf\n",
      "[LightGBM] [Warning] No further splits with positive gain, best gain: -inf\n",
      "[LightGBM] [Warning] No further splits with positive gain, best gain: -inf\n",
      "[LightGBM] [Warning] No further splits with positive gain, best gain: -inf\n",
      "[LightGBM] [Warning] No further splits with positive gain, best gain: -inf\n",
      "[LightGBM] [Warning] No further splits with positive gain, best gain: -inf\n",
      "[LightGBM] [Warning] No further splits with positive gain, best gain: -inf\n",
      "[LightGBM] [Warning] No further splits with positive gain, best gain: -inf\n",
      "[LightGBM] [Warning] No further splits with positive gain, best gain: -inf\n",
      "[LightGBM] [Warning] No further splits with positive gain, best gain: -inf\n",
      "[LightGBM] [Warning] No further splits with positive gain, best gain: -inf\n",
      "[LightGBM] [Warning] No further splits with positive gain, best gain: -inf\n",
      "[LightGBM] [Warning] No further splits with positive gain, best gain: -inf\n",
      "[LightGBM] [Warning] No further splits with positive gain, best gain: -inf\n",
      "[LightGBM] [Warning] No further splits with positive gain, best gain: -inf\n",
      "[LightGBM] [Warning] No further splits with positive gain, best gain: -inf\n",
      "[LightGBM] [Warning] No further splits with positive gain, best gain: -inf\n",
      "[LightGBM] [Warning] No further splits with positive gain, best gain: -inf\n",
      "[LightGBM] [Warning] No further splits with positive gain, best gain: -inf\n",
      "[LightGBM] [Warning] No further splits with positive gain, best gain: -inf\n",
      "[LightGBM] [Warning] No further splits with positive gain, best gain: -inf\n",
      "[LightGBM] [Warning] No further splits with positive gain, best gain: -inf\n",
      "[LightGBM] [Warning] No further splits with positive gain, best gain: -inf\n",
      "[LightGBM] [Warning] No further splits with positive gain, best gain: -inf\n",
      "[LightGBM] [Warning] No further splits with positive gain, best gain: -inf\n",
      "[LightGBM] [Warning] No further splits with positive gain, best gain: -inf\n",
      "[LightGBM] [Warning] No further splits with positive gain, best gain: -inf\n",
      "[LightGBM] [Warning] No further splits with positive gain, best gain: -inf\n",
      "[LightGBM] [Warning] No further splits with positive gain, best gain: -inf\n",
      "[LightGBM] [Warning] No further splits with positive gain, best gain: -inf\n",
      "[LightGBM] [Warning] No further splits with positive gain, best gain: -inf\n",
      "[LightGBM] [Warning] No further splits with positive gain, best gain: -inf\n",
      "[LightGBM] [Warning] No further splits with positive gain, best gain: -inf\n",
      "[LightGBM] [Warning] No further splits with positive gain, best gain: -inf\n",
      "[LightGBM] [Warning] No further splits with positive gain, best gain: -inf\n",
      "[LightGBM] [Warning] No further splits with positive gain, best gain: -inf\n",
      "[LightGBM] [Warning] No further splits with positive gain, best gain: -inf\n",
      "[LightGBM] [Warning] No further splits with positive gain, best gain: -inf\n",
      "[LightGBM] [Warning] No further splits with positive gain, best gain: -inf\n",
      "[LightGBM] [Warning] No further splits with positive gain, best gain: -inf\n",
      "[LightGBM] [Warning] No further splits with positive gain, best gain: -inf\n",
      "[LightGBM] [Warning] No further splits with positive gain, best gain: -inf\n",
      "[LightGBM] [Warning] No further splits with positive gain, best gain: -inf\n",
      "[LightGBM] [Warning] No further splits with positive gain, best gain: -inf\n",
      "[LightGBM] [Warning] No further splits with positive gain, best gain: -inf\n",
      "[LightGBM] [Warning] No further splits with positive gain, best gain: -inf\n",
      "[LightGBM] [Warning] No further splits with positive gain, best gain: -inf\n",
      "[LightGBM] [Warning] No further splits with positive gain, best gain: -inf\n",
      "[LightGBM] [Warning] No further splits with positive gain, best gain: -inf\n",
      "[LightGBM] [Warning] No further splits with positive gain, best gain: -inf\n",
      "[LightGBM] [Warning] No further splits with positive gain, best gain: -inf\n",
      "[LightGBM] [Warning] No further splits with positive gain, best gain: -inf\n",
      "[LightGBM] [Warning] No further splits with positive gain, best gain: -inf\n",
      "[LightGBM] [Warning] No further splits with positive gain, best gain: -inf\n",
      "[LightGBM] [Warning] No further splits with positive gain, best gain: -inf\n",
      "[LightGBM] [Warning] No further splits with positive gain, best gain: -inf\n",
      "[LightGBM] [Warning] No further splits with positive gain, best gain: -inf\n",
      "[LightGBM] [Warning] No further splits with positive gain, best gain: -inf\n",
      "[LightGBM] [Warning] No further splits with positive gain, best gain: -inf\n",
      "[LightGBM] [Warning] No further splits with positive gain, best gain: -inf\n",
      "[LightGBM] [Warning] No further splits with positive gain, best gain: -inf\n",
      "[LightGBM] [Warning] No further splits with positive gain, best gain: -inf\n",
      "[LightGBM] [Warning] No further splits with positive gain, best gain: -inf\n",
      "[LightGBM] [Warning] No further splits with positive gain, best gain: -inf\n",
      "[LightGBM] [Warning] No further splits with positive gain, best gain: -inf\n",
      "[LightGBM] [Warning] No further splits with positive gain, best gain: -inf\n",
      "[LightGBM] [Warning] No further splits with positive gain, best gain: -inf\n",
      "[LightGBM] [Warning] No further splits with positive gain, best gain: -inf\n",
      "[LightGBM] [Warning] No further splits with positive gain, best gain: -inf\n",
      "[LightGBM] [Warning] No further splits with positive gain, best gain: -inf\n",
      "[LightGBM] [Warning] No further splits with positive gain, best gain: -inf\n",
      "[LightGBM] [Warning] No further splits with positive gain, best gain: -inf\n",
      "[LightGBM] [Warning] No further splits with positive gain, best gain: -inf\n",
      "[LightGBM] [Warning] No further splits with positive gain, best gain: -inf\n",
      "[LightGBM] [Warning] No further splits with positive gain, best gain: -inf\n",
      "[LightGBM] [Warning] No further splits with positive gain, best gain: -inf\n",
      "[LightGBM] [Warning] No further splits with positive gain, best gain: -inf\n",
      "[LightGBM] [Warning] No further splits with positive gain, best gain: -inf\n",
      "[LightGBM] [Warning] No further splits with positive gain, best gain: -inf\n",
      "[LightGBM] [Warning] No further splits with positive gain, best gain: -inf\n",
      "[LightGBM] [Warning] No further splits with positive gain, best gain: -inf\n",
      "[LightGBM] [Warning] No further splits with positive gain, best gain: -inf\n",
      "[LightGBM] [Warning] No further splits with positive gain, best gain: -inf\n",
      "[LightGBM] [Warning] No further splits with positive gain, best gain: -inf\n",
      "[LightGBM] [Warning] No further splits with positive gain, best gain: -inf\n",
      "[LightGBM] [Warning] No further splits with positive gain, best gain: -inf\n",
      "[LightGBM] [Warning] No further splits with positive gain, best gain: -inf\n",
      "[LightGBM] [Warning] No further splits with positive gain, best gain: -inf\n",
      "[LightGBM] [Warning] No further splits with positive gain, best gain: -inf\n",
      "[LightGBM] [Warning] No further splits with positive gain, best gain: -inf\n",
      "[LightGBM] [Warning] No further splits with positive gain, best gain: -inf\n",
      "[LightGBM] [Warning] No further splits with positive gain, best gain: -inf\n",
      "[LightGBM] [Warning] No further splits with positive gain, best gain: -inf\n",
      "[LightGBM] [Warning] No further splits with positive gain, best gain: -inf\n",
      "[LightGBM] [Warning] No further splits with positive gain, best gain: -inf\n",
      "[LightGBM] [Warning] No further splits with positive gain, best gain: -inf\n",
      "[LightGBM] [Info] Auto-choosing col-wise multi-threading, the overhead of testing was 0.000054 seconds.\n",
      "You can set `force_col_wise=true` to remove the overhead.\n",
      "[LightGBM] [Info] Total Bins 722\n",
      "[LightGBM] [Info] Number of data points in the train set: 353, number of used features: 9\n",
      "[LightGBM] [Info] Start training from score 141.053824\n",
      "[LightGBM] [Warning] No further splits with positive gain, best gain: -inf\n",
      "[LightGBM] [Warning] No further splits with positive gain, best gain: -inf\n",
      "[LightGBM] [Warning] No further splits with positive gain, best gain: -inf\n",
      "[LightGBM] [Warning] No further splits with positive gain, best gain: -inf\n",
      "[LightGBM] [Warning] No further splits with positive gain, best gain: -inf\n",
      "[LightGBM] [Warning] No further splits with positive gain, best gain: -inf\n",
      "[LightGBM] [Warning] No further splits with positive gain, best gain: -inf\n",
      "[LightGBM] [Warning] No further splits with positive gain, best gain: -inf\n",
      "[LightGBM] [Warning] No further splits with positive gain, best gain: -inf\n",
      "[LightGBM] [Warning] No further splits with positive gain, best gain: -inf\n",
      "[LightGBM] [Warning] No further splits with positive gain, best gain: -inf\n",
      "[LightGBM] [Warning] No further splits with positive gain, best gain: -inf\n",
      "[LightGBM] [Warning] No further splits with positive gain, best gain: -inf\n",
      "[LightGBM] [Warning] No further splits with positive gain, best gain: -inf\n",
      "[LightGBM] [Warning] No further splits with positive gain, best gain: -inf\n",
      "[LightGBM] [Warning] No further splits with positive gain, best gain: -inf\n",
      "[LightGBM] [Warning] No further splits with positive gain, best gain: -inf\n",
      "[LightGBM] [Warning] No further splits with positive gain, best gain: -inf\n",
      "[LightGBM] [Warning] No further splits with positive gain, best gain: -inf\n",
      "[LightGBM] [Warning] No further splits with positive gain, best gain: -inf\n",
      "[LightGBM] [Warning] No further splits with positive gain, best gain: -inf\n",
      "[LightGBM] [Warning] No further splits with positive gain, best gain: -inf\n",
      "[LightGBM] [Warning] No further splits with positive gain, best gain: -inf\n",
      "[LightGBM] [Warning] No further splits with positive gain, best gain: -inf\n",
      "[LightGBM] [Warning] No further splits with positive gain, best gain: -inf\n",
      "[LightGBM] [Warning] No further splits with positive gain, best gain: -inf\n",
      "[LightGBM] [Warning] No further splits with positive gain, best gain: -inf\n",
      "[LightGBM] [Warning] No further splits with positive gain, best gain: -inf\n",
      "[LightGBM] [Warning] No further splits with positive gain, best gain: -inf\n",
      "[LightGBM] [Warning] No further splits with positive gain, best gain: -inf\n",
      "[LightGBM] [Warning] No further splits with positive gain, best gain: -inf\n",
      "[LightGBM] [Warning] No further splits with positive gain, best gain: -inf\n",
      "[LightGBM] [Warning] No further splits with positive gain, best gain: -inf\n",
      "[LightGBM] [Warning] No further splits with positive gain, best gain: -inf\n",
      "[LightGBM] [Warning] No further splits with positive gain, best gain: -inf\n",
      "[LightGBM] [Warning] No further splits with positive gain, best gain: -inf\n",
      "[LightGBM] [Warning] No further splits with positive gain, best gain: -inf\n",
      "[LightGBM] [Warning] No further splits with positive gain, best gain: -inf\n",
      "[LightGBM] [Warning] No further splits with positive gain, best gain: -inf\n",
      "[LightGBM] [Warning] No further splits with positive gain, best gain: -inf\n",
      "[LightGBM] [Warning] No further splits with positive gain, best gain: -inf\n",
      "[LightGBM] [Warning] No further splits with positive gain, best gain: -inf\n",
      "[LightGBM] [Warning] No further splits with positive gain, best gain: -inf\n",
      "[LightGBM] [Warning] No further splits with positive gain, best gain: -inf\n",
      "[LightGBM] [Warning] No further splits with positive gain, best gain: -inf\n",
      "[LightGBM] [Warning] No further splits with positive gain, best gain: -inf\n",
      "[LightGBM] [Warning] No further splits with positive gain, best gain: -inf\n",
      "[LightGBM] [Warning] No further splits with positive gain, best gain: -inf\n",
      "[LightGBM] [Warning] No further splits with positive gain, best gain: -inf\n",
      "[LightGBM] [Warning] No further splits with positive gain, best gain: -inf\n",
      "[LightGBM] [Warning] No further splits with positive gain, best gain: -inf\n",
      "[LightGBM] [Warning] No further splits with positive gain, best gain: -inf\n",
      "[LightGBM] [Warning] No further splits with positive gain, best gain: -inf\n",
      "[LightGBM] [Warning] No further splits with positive gain, best gain: -inf\n",
      "[LightGBM] [Warning] No further splits with positive gain, best gain: -inf\n",
      "[LightGBM] [Warning] No further splits with positive gain, best gain: -inf\n",
      "[LightGBM] [Warning] No further splits with positive gain, best gain: -inf\n",
      "[LightGBM] [Warning] No further splits with positive gain, best gain: -inf\n",
      "[LightGBM] [Warning] No further splits with positive gain, best gain: -inf\n",
      "[LightGBM] [Warning] No further splits with positive gain, best gain: -inf\n",
      "[LightGBM] [Warning] No further splits with positive gain, best gain: -inf\n",
      "[LightGBM] [Warning] No further splits with positive gain, best gain: -inf\n",
      "[LightGBM] [Warning] No further splits with positive gain, best gain: -inf\n",
      "[LightGBM] [Warning] No further splits with positive gain, best gain: -inf\n",
      "[LightGBM] [Warning] No further splits with positive gain, best gain: -inf\n",
      "[LightGBM] [Warning] No further splits with positive gain, best gain: -inf\n",
      "[LightGBM] [Warning] No further splits with positive gain, best gain: -inf\n",
      "[LightGBM] [Warning] No further splits with positive gain, best gain: -inf\n",
      "[LightGBM] [Warning] No further splits with positive gain, best gain: -inf\n",
      "[LightGBM] [Warning] No further splits with positive gain, best gain: -inf\n",
      "[LightGBM] [Warning] No further splits with positive gain, best gain: -inf\n",
      "[LightGBM] [Warning] No further splits with positive gain, best gain: -inf\n",
      "[LightGBM] [Warning] No further splits with positive gain, best gain: -inf\n",
      "[LightGBM] [Warning] No further splits with positive gain, best gain: -inf\n",
      "[LightGBM] [Warning] No further splits with positive gain, best gain: -inf\n",
      "[LightGBM] [Warning] No further splits with positive gain, best gain: -inf\n",
      "[LightGBM] [Warning] No further splits with positive gain, best gain: -inf\n",
      "[LightGBM] [Warning] No further splits with positive gain, best gain: -inf\n",
      "[LightGBM] [Warning] No further splits with positive gain, best gain: -inf\n",
      "[LightGBM] [Warning] No further splits with positive gain, best gain: -inf\n",
      "[LightGBM] [Warning] No further splits with positive gain, best gain: -inf\n",
      "[LightGBM] [Warning] No further splits with positive gain, best gain: -inf\n",
      "[LightGBM] [Warning] No further splits with positive gain, best gain: -inf\n",
      "[LightGBM] [Warning] No further splits with positive gain, best gain: -inf\n",
      "[LightGBM] [Warning] No further splits with positive gain, best gain: -inf\n",
      "[LightGBM] [Warning] No further splits with positive gain, best gain: -inf\n",
      "[LightGBM] [Warning] No further splits with positive gain, best gain: -inf\n",
      "[LightGBM] [Warning] No further splits with positive gain, best gain: -inf\n",
      "[LightGBM] [Warning] No further splits with positive gain, best gain: -inf\n",
      "[LightGBM] [Warning] No further splits with positive gain, best gain: -inf\n",
      "[LightGBM] [Warning] No further splits with positive gain, best gain: -inf\n",
      "[LightGBM] [Warning] No further splits with positive gain, best gain: -inf\n",
      "[LightGBM] [Warning] No further splits with positive gain, best gain: -inf\n",
      "[LightGBM] [Warning] No further splits with positive gain, best gain: -inf\n",
      "[LightGBM] [Warning] No further splits with positive gain, best gain: -inf\n",
      "[LightGBM] [Warning] No further splits with positive gain, best gain: -inf\n",
      "[LightGBM] [Warning] No further splits with positive gain, best gain: -inf\n",
      "[LightGBM] [Warning] No further splits with positive gain, best gain: -inf\n",
      "[LightGBM] [Warning] No further splits with positive gain, best gain: -inf\n",
      "[LightGBM] [Warning] No further splits with positive gain, best gain: -inf\n",
      "[LightGBM] [Info] Auto-choosing col-wise multi-threading, the overhead of testing was 0.000061 seconds.\n",
      "You can set `force_col_wise=true` to remove the overhead.\n",
      "[LightGBM] [Info] Total Bins 743\n",
      "[LightGBM] [Info] Number of data points in the train set: 353, number of used features: 9\n",
      "[LightGBM] [Info] Start training from score 142.328612\n",
      "[LightGBM] [Warning] No further splits with positive gain, best gain: -inf\n",
      "[LightGBM] [Warning] No further splits with positive gain, best gain: -inf\n",
      "[LightGBM] [Warning] No further splits with positive gain, best gain: -inf\n",
      "[LightGBM] [Warning] No further splits with positive gain, best gain: -inf\n",
      "[LightGBM] [Warning] No further splits with positive gain, best gain: -inf\n",
      "[LightGBM] [Warning] No further splits with positive gain, best gain: -inf\n",
      "[LightGBM] [Warning] No further splits with positive gain, best gain: -inf\n",
      "[LightGBM] [Warning] No further splits with positive gain, best gain: -inf\n",
      "[LightGBM] [Warning] No further splits with positive gain, best gain: -inf\n",
      "[LightGBM] [Warning] No further splits with positive gain, best gain: -inf\n",
      "[LightGBM] [Warning] No further splits with positive gain, best gain: -inf\n",
      "[LightGBM] [Warning] No further splits with positive gain, best gain: -inf\n",
      "[LightGBM] [Warning] No further splits with positive gain, best gain: -inf\n",
      "[LightGBM] [Warning] No further splits with positive gain, best gain: -inf\n",
      "[LightGBM] [Warning] No further splits with positive gain, best gain: -inf\n",
      "[LightGBM] [Warning] No further splits with positive gain, best gain: -inf\n",
      "[LightGBM] [Warning] No further splits with positive gain, best gain: -inf\n",
      "[LightGBM] [Warning] No further splits with positive gain, best gain: -inf\n",
      "[LightGBM] [Warning] No further splits with positive gain, best gain: -inf\n",
      "[LightGBM] [Warning] No further splits with positive gain, best gain: -inf\n",
      "[LightGBM] [Warning] No further splits with positive gain, best gain: -inf\n",
      "[LightGBM] [Warning] No further splits with positive gain, best gain: -inf\n",
      "[LightGBM] [Warning] No further splits with positive gain, best gain: -inf\n",
      "[LightGBM] [Warning] No further splits with positive gain, best gain: -inf\n",
      "[LightGBM] [Warning] No further splits with positive gain, best gain: -inf\n",
      "[LightGBM] [Warning] No further splits with positive gain, best gain: -inf\n",
      "[LightGBM] [Warning] No further splits with positive gain, best gain: -inf\n",
      "[LightGBM] [Warning] No further splits with positive gain, best gain: -inf\n",
      "[LightGBM] [Warning] No further splits with positive gain, best gain: -inf\n",
      "[LightGBM] [Warning] No further splits with positive gain, best gain: -inf\n",
      "[LightGBM] [Warning] No further splits with positive gain, best gain: -inf\n",
      "[LightGBM] [Warning] No further splits with positive gain, best gain: -inf\n",
      "[LightGBM] [Warning] No further splits with positive gain, best gain: -inf\n",
      "[LightGBM] [Warning] No further splits with positive gain, best gain: -inf\n",
      "[LightGBM] [Warning] No further splits with positive gain, best gain: -inf\n",
      "[LightGBM] [Warning] No further splits with positive gain, best gain: -inf\n",
      "[LightGBM] [Warning] No further splits with positive gain, best gain: -inf\n",
      "[LightGBM] [Warning] No further splits with positive gain, best gain: -inf\n",
      "[LightGBM] [Warning] No further splits with positive gain, best gain: -inf\n",
      "[LightGBM] [Warning] No further splits with positive gain, best gain: -inf\n",
      "[LightGBM] [Warning] No further splits with positive gain, best gain: -inf\n",
      "[LightGBM] [Warning] No further splits with positive gain, best gain: -inf\n",
      "[LightGBM] [Warning] No further splits with positive gain, best gain: -inf\n",
      "[LightGBM] [Warning] No further splits with positive gain, best gain: -inf\n",
      "[LightGBM] [Warning] No further splits with positive gain, best gain: -inf\n",
      "[LightGBM] [Warning] No further splits with positive gain, best gain: -inf\n",
      "[LightGBM] [Warning] No further splits with positive gain, best gain: -inf\n",
      "[LightGBM] [Warning] No further splits with positive gain, best gain: -inf\n",
      "[LightGBM] [Warning] No further splits with positive gain, best gain: -inf\n",
      "[LightGBM] [Warning] No further splits with positive gain, best gain: -inf\n",
      "[LightGBM] [Warning] No further splits with positive gain, best gain: -inf\n",
      "[LightGBM] [Warning] No further splits with positive gain, best gain: -inf\n",
      "[LightGBM] [Warning] No further splits with positive gain, best gain: -inf\n",
      "[LightGBM] [Warning] No further splits with positive gain, best gain: -inf\n",
      "[LightGBM] [Warning] No further splits with positive gain, best gain: -inf\n",
      "[LightGBM] [Warning] No further splits with positive gain, best gain: -inf\n",
      "[LightGBM] [Warning] No further splits with positive gain, best gain: -inf\n",
      "[LightGBM] [Warning] No further splits with positive gain, best gain: -inf\n",
      "[LightGBM] [Warning] No further splits with positive gain, best gain: -inf\n",
      "[LightGBM] [Warning] No further splits with positive gain, best gain: -inf\n",
      "[LightGBM] [Warning] No further splits with positive gain, best gain: -inf\n",
      "[LightGBM] [Warning] No further splits with positive gain, best gain: -inf\n",
      "[LightGBM] [Warning] No further splits with positive gain, best gain: -inf\n",
      "[LightGBM] [Warning] No further splits with positive gain, best gain: -inf\n",
      "[LightGBM] [Warning] No further splits with positive gain, best gain: -inf\n",
      "[LightGBM] [Warning] No further splits with positive gain, best gain: -inf\n",
      "[LightGBM] [Warning] No further splits with positive gain, best gain: -inf\n",
      "[LightGBM] [Warning] No further splits with positive gain, best gain: -inf\n",
      "[LightGBM] [Warning] No further splits with positive gain, best gain: -inf\n",
      "[LightGBM] [Warning] No further splits with positive gain, best gain: -inf\n",
      "[LightGBM] [Warning] No further splits with positive gain, best gain: -inf\n",
      "[LightGBM] [Warning] No further splits with positive gain, best gain: -inf\n",
      "[LightGBM] [Warning] No further splits with positive gain, best gain: -inf\n",
      "[LightGBM] [Warning] No further splits with positive gain, best gain: -inf\n",
      "[LightGBM] [Warning] No further splits with positive gain, best gain: -inf\n",
      "[LightGBM] [Warning] No further splits with positive gain, best gain: -inf\n",
      "[LightGBM] [Warning] No further splits with positive gain, best gain: -inf\n",
      "[LightGBM] [Warning] No further splits with positive gain, best gain: -inf\n",
      "[LightGBM] [Warning] No further splits with positive gain, best gain: -inf\n",
      "[LightGBM] [Warning] No further splits with positive gain, best gain: -inf\n",
      "[LightGBM] [Warning] No further splits with positive gain, best gain: -inf\n",
      "[LightGBM] [Warning] No further splits with positive gain, best gain: -inf\n",
      "[LightGBM] [Warning] No further splits with positive gain, best gain: -inf\n",
      "[LightGBM] [Warning] No further splits with positive gain, best gain: -inf\n",
      "[LightGBM] [Warning] No further splits with positive gain, best gain: -inf\n",
      "[LightGBM] [Warning] No further splits with positive gain, best gain: -inf\n",
      "[LightGBM] [Warning] No further splits with positive gain, best gain: -inf\n",
      "[LightGBM] [Warning] No further splits with positive gain, best gain: -inf\n",
      "[LightGBM] [Warning] No further splits with positive gain, best gain: -inf\n",
      "[LightGBM] [Warning] No further splits with positive gain, best gain: -inf\n",
      "[LightGBM] [Warning] No further splits with positive gain, best gain: -inf\n",
      "[LightGBM] [Warning] No further splits with positive gain, best gain: -inf\n",
      "[LightGBM] [Warning] No further splits with positive gain, best gain: -inf\n",
      "[LightGBM] [Warning] No further splits with positive gain, best gain: -inf\n",
      "[LightGBM] [Warning] No further splits with positive gain, best gain: -inf\n",
      "[LightGBM] [Warning] No further splits with positive gain, best gain: -inf\n",
      "[LightGBM] [Warning] No further splits with positive gain, best gain: -inf\n",
      "[LightGBM] [Warning] No further splits with positive gain, best gain: -inf\n",
      "[LightGBM] [Warning] No further splits with positive gain, best gain: -inf\n",
      "[LightGBM] [Warning] No further splits with positive gain, best gain: -inf\n",
      "[LightGBM] [Info] Auto-choosing col-wise multi-threading, the overhead of testing was 0.000053 seconds.\n",
      "You can set `force_col_wise=true` to remove the overhead.\n",
      "[LightGBM] [Info] Total Bins 723\n",
      "[LightGBM] [Info] Number of data points in the train set: 353, number of used features: 9\n",
      "[LightGBM] [Info] Start training from score 137.685552\n",
      "[LightGBM] [Warning] No further splits with positive gain, best gain: -inf\n",
      "[LightGBM] [Warning] No further splits with positive gain, best gain: -inf\n",
      "[LightGBM] [Warning] No further splits with positive gain, best gain: -inf\n",
      "[LightGBM] [Warning] No further splits with positive gain, best gain: -inf\n",
      "[LightGBM] [Warning] No further splits with positive gain, best gain: -inf\n",
      "[LightGBM] [Warning] No further splits with positive gain, best gain: -inf\n",
      "[LightGBM] [Warning] No further splits with positive gain, best gain: -inf\n",
      "[LightGBM] [Warning] No further splits with positive gain, best gain: -inf\n",
      "[LightGBM] [Warning] No further splits with positive gain, best gain: -inf\n",
      "[LightGBM] [Warning] No further splits with positive gain, best gain: -inf\n",
      "[LightGBM] [Warning] No further splits with positive gain, best gain: -inf\n",
      "[LightGBM] [Warning] No further splits with positive gain, best gain: -inf\n",
      "[LightGBM] [Warning] No further splits with positive gain, best gain: -inf\n",
      "[LightGBM] [Warning] No further splits with positive gain, best gain: -inf\n",
      "[LightGBM] [Warning] No further splits with positive gain, best gain: -inf\n",
      "[LightGBM] [Warning] No further splits with positive gain, best gain: -inf\n",
      "[LightGBM] [Warning] No further splits with positive gain, best gain: -inf\n",
      "[LightGBM] [Warning] No further splits with positive gain, best gain: -inf\n",
      "[LightGBM] [Warning] No further splits with positive gain, best gain: -inf\n",
      "[LightGBM] [Warning] No further splits with positive gain, best gain: -inf\n",
      "[LightGBM] [Warning] No further splits with positive gain, best gain: -inf\n",
      "[LightGBM] [Warning] No further splits with positive gain, best gain: -inf\n",
      "[LightGBM] [Warning] No further splits with positive gain, best gain: -inf\n",
      "[LightGBM] [Warning] No further splits with positive gain, best gain: -inf\n",
      "[LightGBM] [Warning] No further splits with positive gain, best gain: -inf\n",
      "[LightGBM] [Warning] No further splits with positive gain, best gain: -inf\n",
      "[LightGBM] [Warning] No further splits with positive gain, best gain: -inf\n",
      "[LightGBM] [Warning] No further splits with positive gain, best gain: -inf\n",
      "[LightGBM] [Warning] No further splits with positive gain, best gain: -inf\n",
      "[LightGBM] [Warning] No further splits with positive gain, best gain: -inf\n",
      "[LightGBM] [Warning] No further splits with positive gain, best gain: -inf\n",
      "[LightGBM] [Warning] No further splits with positive gain, best gain: -inf\n",
      "[LightGBM] [Warning] No further splits with positive gain, best gain: -inf\n",
      "[LightGBM] [Warning] No further splits with positive gain, best gain: -inf\n",
      "[LightGBM] [Warning] No further splits with positive gain, best gain: -inf\n",
      "[LightGBM] [Warning] No further splits with positive gain, best gain: -inf\n",
      "[LightGBM] [Warning] No further splits with positive gain, best gain: -inf\n",
      "[LightGBM] [Warning] No further splits with positive gain, best gain: -inf\n",
      "[LightGBM] [Warning] No further splits with positive gain, best gain: -inf\n",
      "[LightGBM] [Warning] No further splits with positive gain, best gain: -inf\n",
      "[LightGBM] [Warning] No further splits with positive gain, best gain: -inf\n",
      "[LightGBM] [Warning] No further splits with positive gain, best gain: -inf\n",
      "[LightGBM] [Warning] No further splits with positive gain, best gain: -inf\n",
      "[LightGBM] [Warning] No further splits with positive gain, best gain: -inf\n",
      "[LightGBM] [Warning] No further splits with positive gain, best gain: -inf\n",
      "[LightGBM] [Warning] No further splits with positive gain, best gain: -inf\n",
      "[LightGBM] [Warning] No further splits with positive gain, best gain: -inf\n",
      "[LightGBM] [Warning] No further splits with positive gain, best gain: -inf\n",
      "[LightGBM] [Warning] No further splits with positive gain, best gain: -inf\n",
      "[LightGBM] [Warning] No further splits with positive gain, best gain: -inf\n",
      "[LightGBM] [Warning] No further splits with positive gain, best gain: -inf\n",
      "[LightGBM] [Warning] No further splits with positive gain, best gain: -inf\n",
      "[LightGBM] [Warning] No further splits with positive gain, best gain: -inf\n",
      "[LightGBM] [Warning] No further splits with positive gain, best gain: -inf\n",
      "[LightGBM] [Warning] No further splits with positive gain, best gain: -inf\n",
      "[LightGBM] [Warning] No further splits with positive gain, best gain: -inf\n",
      "[LightGBM] [Warning] No further splits with positive gain, best gain: -inf\n",
      "[LightGBM] [Warning] No further splits with positive gain, best gain: -inf\n",
      "[LightGBM] [Warning] No further splits with positive gain, best gain: -inf\n",
      "[LightGBM] [Warning] No further splits with positive gain, best gain: -inf\n",
      "[LightGBM] [Warning] No further splits with positive gain, best gain: -inf\n",
      "[LightGBM] [Warning] No further splits with positive gain, best gain: -inf\n",
      "[LightGBM] [Warning] No further splits with positive gain, best gain: -inf\n",
      "[LightGBM] [Warning] No further splits with positive gain, best gain: -inf\n",
      "[LightGBM] [Warning] No further splits with positive gain, best gain: -inf\n",
      "[LightGBM] [Warning] No further splits with positive gain, best gain: -inf\n",
      "[LightGBM] [Warning] No further splits with positive gain, best gain: -inf\n",
      "[LightGBM] [Warning] No further splits with positive gain, best gain: -inf\n",
      "[LightGBM] [Warning] No further splits with positive gain, best gain: -inf\n",
      "[LightGBM] [Warning] No further splits with positive gain, best gain: -inf\n",
      "[LightGBM] [Warning] No further splits with positive gain, best gain: -inf\n",
      "[LightGBM] [Warning] No further splits with positive gain, best gain: -inf\n",
      "[LightGBM] [Warning] No further splits with positive gain, best gain: -inf\n",
      "[LightGBM] [Warning] No further splits with positive gain, best gain: -inf\n",
      "[LightGBM] [Warning] No further splits with positive gain, best gain: -inf\n",
      "[LightGBM] [Warning] No further splits with positive gain, best gain: -inf\n",
      "[LightGBM] [Warning] No further splits with positive gain, best gain: -inf\n",
      "[LightGBM] [Warning] No further splits with positive gain, best gain: -inf\n",
      "[LightGBM] [Warning] No further splits with positive gain, best gain: -inf\n",
      "[LightGBM] [Warning] No further splits with positive gain, best gain: -inf\n",
      "[LightGBM] [Warning] No further splits with positive gain, best gain: -inf\n",
      "[LightGBM] [Warning] No further splits with positive gain, best gain: -inf\n",
      "[LightGBM] [Warning] No further splits with positive gain, best gain: -inf\n",
      "[LightGBM] [Warning] No further splits with positive gain, best gain: -inf\n",
      "[LightGBM] [Warning] No further splits with positive gain, best gain: -inf\n",
      "[LightGBM] [Warning] No further splits with positive gain, best gain: -inf\n",
      "[LightGBM] [Warning] No further splits with positive gain, best gain: -inf\n",
      "[LightGBM] [Warning] No further splits with positive gain, best gain: -inf\n",
      "[LightGBM] [Warning] No further splits with positive gain, best gain: -inf\n",
      "[LightGBM] [Warning] No further splits with positive gain, best gain: -inf\n",
      "[LightGBM] [Warning] No further splits with positive gain, best gain: -inf\n",
      "[LightGBM] [Warning] No further splits with positive gain, best gain: -inf\n",
      "[LightGBM] [Warning] No further splits with positive gain, best gain: -inf\n",
      "[LightGBM] [Warning] No further splits with positive gain, best gain: -inf\n",
      "[LightGBM] [Warning] No further splits with positive gain, best gain: -inf\n",
      "[LightGBM] [Warning] No further splits with positive gain, best gain: -inf\n",
      "[LightGBM] [Warning] No further splits with positive gain, best gain: -inf\n",
      "[LightGBM] [Warning] No further splits with positive gain, best gain: -inf\n",
      "[LightGBM] [Warning] No further splits with positive gain, best gain: -inf\n",
      "[LightGBM] [Warning] No further splits with positive gain, best gain: -inf\n",
      "[LightGBM] [Info] Auto-choosing col-wise multi-threading, the overhead of testing was 0.000053 seconds.\n",
      "You can set `force_col_wise=true` to remove the overhead.\n",
      "[LightGBM] [Info] Total Bins 717\n",
      "[LightGBM] [Info] Number of data points in the train set: 353, number of used features: 9\n",
      "[LightGBM] [Info] Start training from score 133.900850\n",
      "[LightGBM] [Warning] No further splits with positive gain, best gain: -inf\n",
      "[LightGBM] [Warning] No further splits with positive gain, best gain: -inf\n",
      "[LightGBM] [Warning] No further splits with positive gain, best gain: -inf\n",
      "[LightGBM] [Warning] No further splits with positive gain, best gain: -inf\n",
      "[LightGBM] [Warning] No further splits with positive gain, best gain: -inf\n",
      "[LightGBM] [Warning] No further splits with positive gain, best gain: -inf\n",
      "[LightGBM] [Warning] No further splits with positive gain, best gain: -inf\n",
      "[LightGBM] [Warning] No further splits with positive gain, best gain: -inf\n",
      "[LightGBM] [Warning] No further splits with positive gain, best gain: -inf\n",
      "[LightGBM] [Warning] No further splits with positive gain, best gain: -inf\n",
      "[LightGBM] [Warning] No further splits with positive gain, best gain: -inf\n",
      "[LightGBM] [Warning] No further splits with positive gain, best gain: -inf\n",
      "[LightGBM] [Warning] No further splits with positive gain, best gain: -inf\n",
      "[LightGBM] [Warning] No further splits with positive gain, best gain: -inf\n",
      "[LightGBM] [Warning] No further splits with positive gain, best gain: -inf\n",
      "[LightGBM] [Warning] No further splits with positive gain, best gain: -inf\n",
      "[LightGBM] [Warning] No further splits with positive gain, best gain: -inf\n",
      "[LightGBM] [Warning] No further splits with positive gain, best gain: -inf\n",
      "[LightGBM] [Warning] No further splits with positive gain, best gain: -inf\n",
      "[LightGBM] [Warning] No further splits with positive gain, best gain: -inf\n",
      "[LightGBM] [Warning] No further splits with positive gain, best gain: -inf\n",
      "[LightGBM] [Warning] No further splits with positive gain, best gain: -inf\n",
      "[LightGBM] [Warning] No further splits with positive gain, best gain: -inf\n",
      "[LightGBM] [Warning] No further splits with positive gain, best gain: -inf\n",
      "[LightGBM] [Warning] No further splits with positive gain, best gain: -inf\n",
      "[LightGBM] [Warning] No further splits with positive gain, best gain: -inf\n",
      "[LightGBM] [Warning] No further splits with positive gain, best gain: -inf\n",
      "[LightGBM] [Warning] No further splits with positive gain, best gain: -inf\n",
      "[LightGBM] [Warning] No further splits with positive gain, best gain: -inf\n",
      "[LightGBM] [Warning] No further splits with positive gain, best gain: -inf\n",
      "[LightGBM] [Warning] No further splits with positive gain, best gain: -inf\n",
      "[LightGBM] [Warning] No further splits with positive gain, best gain: -inf\n",
      "[LightGBM] [Warning] No further splits with positive gain, best gain: -inf\n",
      "[LightGBM] [Warning] No further splits with positive gain, best gain: -inf\n",
      "[LightGBM] [Warning] No further splits with positive gain, best gain: -inf\n",
      "[LightGBM] [Warning] No further splits with positive gain, best gain: -inf\n",
      "[LightGBM] [Warning] No further splits with positive gain, best gain: -inf\n",
      "[LightGBM] [Warning] No further splits with positive gain, best gain: -inf\n",
      "[LightGBM] [Warning] No further splits with positive gain, best gain: -inf\n",
      "[LightGBM] [Warning] No further splits with positive gain, best gain: -inf\n",
      "[LightGBM] [Warning] No further splits with positive gain, best gain: -inf\n",
      "[LightGBM] [Warning] No further splits with positive gain, best gain: -inf\n",
      "[LightGBM] [Warning] No further splits with positive gain, best gain: -inf\n",
      "[LightGBM] [Warning] No further splits with positive gain, best gain: -inf\n",
      "[LightGBM] [Warning] No further splits with positive gain, best gain: -inf\n",
      "[LightGBM] [Warning] No further splits with positive gain, best gain: -inf\n",
      "[LightGBM] [Warning] No further splits with positive gain, best gain: -inf\n",
      "[LightGBM] [Warning] No further splits with positive gain, best gain: -inf\n",
      "[LightGBM] [Warning] No further splits with positive gain, best gain: -inf\n",
      "[LightGBM] [Warning] No further splits with positive gain, best gain: -inf\n",
      "[LightGBM] [Warning] No further splits with positive gain, best gain: -inf\n",
      "[LightGBM] [Warning] No further splits with positive gain, best gain: -inf\n",
      "[LightGBM] [Warning] No further splits with positive gain, best gain: -inf\n",
      "[LightGBM] [Warning] No further splits with positive gain, best gain: -inf\n",
      "[LightGBM] [Warning] No further splits with positive gain, best gain: -inf\n",
      "[LightGBM] [Warning] No further splits with positive gain, best gain: -inf\n",
      "[LightGBM] [Warning] No further splits with positive gain, best gain: -inf\n",
      "[LightGBM] [Warning] No further splits with positive gain, best gain: -inf\n",
      "[LightGBM] [Warning] No further splits with positive gain, best gain: -inf\n",
      "[LightGBM] [Warning] No further splits with positive gain, best gain: -inf\n",
      "[LightGBM] [Warning] No further splits with positive gain, best gain: -inf\n",
      "[LightGBM] [Warning] No further splits with positive gain, best gain: -inf\n",
      "[LightGBM] [Warning] No further splits with positive gain, best gain: -inf\n",
      "[LightGBM] [Warning] No further splits with positive gain, best gain: -inf\n",
      "[LightGBM] [Warning] No further splits with positive gain, best gain: -inf\n",
      "[LightGBM] [Warning] No further splits with positive gain, best gain: -inf\n",
      "[LightGBM] [Warning] No further splits with positive gain, best gain: -inf\n",
      "[LightGBM] [Warning] No further splits with positive gain, best gain: -inf\n",
      "[LightGBM] [Warning] No further splits with positive gain, best gain: -inf\n",
      "[LightGBM] [Warning] No further splits with positive gain, best gain: -inf\n",
      "[LightGBM] [Warning] No further splits with positive gain, best gain: -inf\n",
      "[LightGBM] [Warning] No further splits with positive gain, best gain: -inf\n",
      "[LightGBM] [Warning] No further splits with positive gain, best gain: -inf\n",
      "[LightGBM] [Warning] No further splits with positive gain, best gain: -inf\n",
      "[LightGBM] [Warning] No further splits with positive gain, best gain: -inf\n",
      "[LightGBM] [Warning] No further splits with positive gain, best gain: -inf\n",
      "[LightGBM] [Warning] No further splits with positive gain, best gain: -inf\n",
      "[LightGBM] [Warning] No further splits with positive gain, best gain: -inf\n",
      "[LightGBM] [Warning] No further splits with positive gain, best gain: -inf\n",
      "[LightGBM] [Warning] No further splits with positive gain, best gain: -inf\n",
      "[LightGBM] [Warning] No further splits with positive gain, best gain: -inf\n",
      "[LightGBM] [Warning] No further splits with positive gain, best gain: -inf\n",
      "[LightGBM] [Warning] No further splits with positive gain, best gain: -inf\n",
      "[LightGBM] [Warning] No further splits with positive gain, best gain: -inf\n",
      "[LightGBM] [Warning] No further splits with positive gain, best gain: -inf\n",
      "[LightGBM] [Warning] No further splits with positive gain, best gain: -inf\n",
      "[LightGBM] [Warning] No further splits with positive gain, best gain: -inf\n",
      "[LightGBM] [Warning] No further splits with positive gain, best gain: -inf\n",
      "[LightGBM] [Warning] No further splits with positive gain, best gain: -inf\n",
      "[LightGBM] [Warning] No further splits with positive gain, best gain: -inf\n",
      "[LightGBM] [Warning] No further splits with positive gain, best gain: -inf\n",
      "[LightGBM] [Warning] No further splits with positive gain, best gain: -inf\n",
      "[LightGBM] [Warning] No further splits with positive gain, best gain: -inf\n",
      "[LightGBM] [Warning] No further splits with positive gain, best gain: -inf\n",
      "[LightGBM] [Warning] No further splits with positive gain, best gain: -inf\n",
      "[LightGBM] [Warning] No further splits with positive gain, best gain: -inf\n",
      "[LightGBM] [Warning] No further splits with positive gain, best gain: -inf\n",
      "[LightGBM] [Warning] No further splits with positive gain, best gain: -inf\n",
      "[LightGBM] [Warning] No further splits with positive gain, best gain: -inf\n",
      "[LightGBM] [Warning] No further splits with positive gain, best gain: -inf\n",
      "\n",
      "Model: LightGBM\n",
      "RECM: 44.92\n",
      "CV: 0.4262414540880018\n"
     ]
    }
   ],
   "source": [
    "# LightGBM model 5 \n",
    "# Prediction and evaluation\n",
    "y_pred_lgbm = lgb_model.predict(X_test)\n",
    "rmse_lgbm = mean_squared_error(y_test, y_pred_lgbm)\n",
    "rmse_lgbm = np.sqrt(rmse_lgbm)\n",
    "scores = cross_val_score(lgb_model, X_test, y_test, cv=5)\n",
    "\n",
    "print(\"\\nModel: LightGBM\")\n",
    "print(f\"RECM: {rmse_lgbm:.2f}\")\n",
    "print(\"CV:\", scores.mean())"
   ]
  },
  {
   "cell_type": "markdown",
   "metadata": {},
   "source": [
    "## Conclusion"
   ]
  },
  {
   "cell_type": "markdown",
   "metadata": {},
   "source": [
    "1. The model that showed the best performance was LightGBM with the lowest error in cross-validation and the lowest error by RECM.\n",
    "2. In general terms, the Random Forest algorithm also showed a good performance, improving the required error value; however, it turns out to be slower than LightGBM\n",
    "3. It can predict to a good extent the days in which there will be more taxi orders"
   ]
  }
 ],
 "metadata": {
  "ExecuteTimeLog": [
   {
    "duration": 156,
    "start_time": "2024-12-31T01:35:41.527Z"
   },
   {
    "duration": 2764,
    "start_time": "2024-12-31T01:35:45.246Z"
   },
   {
    "duration": 36,
    "start_time": "2024-12-31T01:35:48.013Z"
   },
   {
    "duration": 10,
    "start_time": "2024-12-31T01:36:33.311Z"
   },
   {
    "duration": 17,
    "start_time": "2024-12-31T01:36:57.160Z"
   },
   {
    "duration": 15,
    "start_time": "2024-12-31T01:37:26.761Z"
   },
   {
    "duration": 11,
    "start_time": "2024-12-31T01:37:48.338Z"
   },
   {
    "duration": 16,
    "start_time": "2024-12-31T01:41:09.451Z"
   },
   {
    "duration": 11,
    "start_time": "2024-12-31T01:41:20.362Z"
   },
   {
    "duration": 110,
    "start_time": "2024-12-31T01:55:17.781Z"
   },
   {
    "duration": 171,
    "start_time": "2024-12-31T02:12:37.332Z"
   },
   {
    "duration": 93,
    "start_time": "2024-12-31T02:12:42.397Z"
   },
   {
    "duration": 156,
    "start_time": "2024-12-31T02:15:18.782Z"
   },
   {
    "duration": 89,
    "start_time": "2024-12-31T02:15:27.504Z"
   },
   {
    "duration": 351,
    "start_time": "2024-12-31T02:17:50.948Z"
   },
   {
    "duration": 4,
    "start_time": "2024-12-31T02:18:27.492Z"
   },
   {
    "duration": 22,
    "start_time": "2024-12-31T02:18:27.989Z"
   },
   {
    "duration": 9,
    "start_time": "2024-12-31T02:18:28.047Z"
   },
   {
    "duration": 10,
    "start_time": "2024-12-31T02:18:28.071Z"
   },
   {
    "duration": 12,
    "start_time": "2024-12-31T02:18:28.102Z"
   },
   {
    "duration": 39,
    "start_time": "2024-12-31T02:18:29.317Z"
   },
   {
    "duration": 382,
    "start_time": "2024-12-31T02:18:31.118Z"
   },
   {
    "duration": 32,
    "start_time": "2024-12-31T02:20:02.143Z"
   },
   {
    "duration": 31,
    "start_time": "2024-12-31T02:30:24.491Z"
   },
   {
    "duration": 31,
    "start_time": "2024-12-31T02:30:47.906Z"
   },
   {
    "duration": 30,
    "start_time": "2024-12-31T02:31:15.655Z"
   },
   {
    "duration": 30,
    "start_time": "2024-12-31T02:31:36.187Z"
   },
   {
    "duration": 17,
    "start_time": "2024-12-31T02:57:38.249Z"
   },
   {
    "duration": 179,
    "start_time": "2024-12-31T02:57:54.128Z"
   },
   {
    "duration": 3,
    "start_time": "2024-12-31T05:10:51.033Z"
   },
   {
    "duration": 23,
    "start_time": "2024-12-31T05:10:52.663Z"
   },
   {
    "duration": 20,
    "start_time": "2024-12-31T05:11:45.130Z"
   },
   {
    "duration": 4,
    "start_time": "2024-12-31T05:11:52.467Z"
   },
   {
    "duration": 20,
    "start_time": "2024-12-31T05:11:52.977Z"
   },
   {
    "duration": 8,
    "start_time": "2024-12-31T05:11:53.011Z"
   },
   {
    "duration": 10,
    "start_time": "2024-12-31T05:11:53.042Z"
   },
   {
    "duration": 9,
    "start_time": "2024-12-31T05:11:53.074Z"
   },
   {
    "duration": 30,
    "start_time": "2024-12-31T05:11:54.234Z"
   },
   {
    "duration": 159,
    "start_time": "2024-12-31T05:11:54.611Z"
   },
   {
    "duration": 3,
    "start_time": "2024-12-31T05:11:55.610Z"
   },
   {
    "duration": 22,
    "start_time": "2024-12-31T05:11:56.458Z"
   },
   {
    "duration": 14,
    "start_time": "2024-12-31T05:12:22.587Z"
   },
   {
    "duration": 20,
    "start_time": "2024-12-31T05:13:02.125Z"
   },
   {
    "duration": 14,
    "start_time": "2024-12-31T05:13:58.034Z"
   },
   {
    "duration": 13,
    "start_time": "2024-12-31T05:15:00.651Z"
   },
   {
    "duration": 7,
    "start_time": "2024-12-31T05:15:46.376Z"
   },
   {
    "duration": 8,
    "start_time": "2024-12-31T05:16:15.433Z"
   },
   {
    "duration": 4,
    "start_time": "2024-12-31T05:17:38.489Z"
   },
   {
    "duration": 20,
    "start_time": "2024-12-31T05:17:38.993Z"
   },
   {
    "duration": 8,
    "start_time": "2024-12-31T05:17:39.024Z"
   },
   {
    "duration": 10,
    "start_time": "2024-12-31T05:17:39.056Z"
   },
   {
    "duration": 8,
    "start_time": "2024-12-31T05:17:39.087Z"
   },
   {
    "duration": 29,
    "start_time": "2024-12-31T05:17:39.184Z"
   },
   {
    "duration": 159,
    "start_time": "2024-12-31T05:17:39.226Z"
   },
   {
    "duration": 4,
    "start_time": "2024-12-31T05:17:39.387Z"
   },
   {
    "duration": 12,
    "start_time": "2024-12-31T05:17:39.392Z"
   },
   {
    "duration": 8,
    "start_time": "2024-12-31T05:51:06.378Z"
   },
   {
    "duration": 22,
    "start_time": "2024-12-31T05:55:42.173Z"
   },
   {
    "duration": 4,
    "start_time": "2024-12-31T05:56:15.663Z"
   },
   {
    "duration": 145,
    "start_time": "2024-12-31T05:56:21.453Z"
   },
   {
    "duration": 6,
    "start_time": "2024-12-31T05:56:38.359Z"
   },
   {
    "duration": 21,
    "start_time": "2024-12-31T05:56:38.858Z"
   },
   {
    "duration": 9,
    "start_time": "2024-12-31T05:56:38.903Z"
   },
   {
    "duration": 9,
    "start_time": "2024-12-31T05:56:38.937Z"
   },
   {
    "duration": 8,
    "start_time": "2024-12-31T05:56:38.968Z"
   },
   {
    "duration": 32,
    "start_time": "2024-12-31T05:56:39.058Z"
   },
   {
    "duration": 161,
    "start_time": "2024-12-31T05:56:39.092Z"
   },
   {
    "duration": 6,
    "start_time": "2024-12-31T05:56:39.254Z"
   },
   {
    "duration": 12,
    "start_time": "2024-12-31T05:56:39.653Z"
   },
   {
    "duration": 35,
    "start_time": "2024-12-31T05:56:40.149Z"
   },
   {
    "duration": 16,
    "start_time": "2024-12-31T05:58:41.118Z"
   },
   {
    "duration": 5,
    "start_time": "2024-12-31T06:01:25.260Z"
   },
   {
    "duration": 5,
    "start_time": "2024-12-31T06:01:46.573Z"
   },
   {
    "duration": 15,
    "start_time": "2024-12-31T06:03:40.168Z"
   },
   {
    "duration": 5,
    "start_time": "2024-12-31T06:04:05.793Z"
   },
   {
    "duration": 5,
    "start_time": "2024-12-31T06:06:01.671Z"
   },
   {
    "duration": 5,
    "start_time": "2024-12-31T06:14:09.447Z"
   },
   {
    "duration": 4,
    "start_time": "2024-12-31T06:14:24.575Z"
   },
   {
    "duration": 5,
    "start_time": "2024-12-31T06:14:40.627Z"
   },
   {
    "duration": 82,
    "start_time": "2024-12-31T06:53:38.692Z"
   },
   {
    "duration": 90,
    "start_time": "2024-12-31T06:54:52.870Z"
   },
   {
    "duration": 88,
    "start_time": "2024-12-31T06:55:04.754Z"
   },
   {
    "duration": 87,
    "start_time": "2024-12-31T06:55:11.787Z"
   },
   {
    "duration": 88,
    "start_time": "2024-12-31T06:55:16.530Z"
   },
   {
    "duration": 91,
    "start_time": "2024-12-31T06:55:20.971Z"
   },
   {
    "duration": 45,
    "start_time": "2024-12-31T06:55:49.103Z"
   },
   {
    "duration": 35,
    "start_time": "2024-12-31T06:56:02.338Z"
   },
   {
    "duration": 6,
    "start_time": "2024-12-31T06:56:13.272Z"
   },
   {
    "duration": 8,
    "start_time": "2024-12-31T06:56:21.243Z"
   },
   {
    "duration": 5,
    "start_time": "2024-12-31T06:56:23.347Z"
   },
   {
    "duration": 35,
    "start_time": "2024-12-31T06:56:25.280Z"
   },
   {
    "duration": 34,
    "start_time": "2024-12-31T06:56:30.083Z"
   },
   {
    "duration": 40,
    "start_time": "2024-12-31T06:56:40.465Z"
   },
   {
    "duration": 52,
    "start_time": "2024-12-31T06:56:56.396Z"
   },
   {
    "duration": 36,
    "start_time": "2024-12-31T06:57:08.076Z"
   },
   {
    "duration": 1929,
    "start_time": "2024-12-31T06:59:42.038Z"
   },
   {
    "duration": 8,
    "start_time": "2024-12-31T06:59:45.674Z"
   },
   {
    "duration": 4,
    "start_time": "2024-12-31T07:00:49.011Z"
   },
   {
    "duration": 19,
    "start_time": "2024-12-31T07:00:49.299Z"
   },
   {
    "duration": 9,
    "start_time": "2024-12-31T07:00:49.498Z"
   },
   {
    "duration": 10,
    "start_time": "2024-12-31T07:00:49.690Z"
   },
   {
    "duration": 8,
    "start_time": "2024-12-31T07:00:49.883Z"
   },
   {
    "duration": 29,
    "start_time": "2024-12-31T07:00:50.418Z"
   },
   {
    "duration": 168,
    "start_time": "2024-12-31T07:00:50.594Z"
   },
   {
    "duration": 3,
    "start_time": "2024-12-31T07:00:51.027Z"
   },
   {
    "duration": 12,
    "start_time": "2024-12-31T07:00:51.282Z"
   },
   {
    "duration": 14,
    "start_time": "2024-12-31T07:00:51.658Z"
   },
   {
    "duration": 1825,
    "start_time": "2024-12-31T07:00:52.058Z"
   },
   {
    "duration": 5,
    "start_time": "2024-12-31T07:00:53.885Z"
   },
   {
    "duration": 33,
    "start_time": "2024-12-31T07:00:53.891Z"
   },
   {
    "duration": 25,
    "start_time": "2024-12-31T07:00:53.926Z"
   },
   {
    "duration": 4,
    "start_time": "2024-12-31T07:02:41.948Z"
   },
   {
    "duration": 18,
    "start_time": "2024-12-31T07:02:42.460Z"
   },
   {
    "duration": 8,
    "start_time": "2024-12-31T07:02:42.490Z"
   },
   {
    "duration": 9,
    "start_time": "2024-12-31T07:02:42.521Z"
   },
   {
    "duration": 9,
    "start_time": "2024-12-31T07:02:42.553Z"
   },
   {
    "duration": 30,
    "start_time": "2024-12-31T07:02:43.298Z"
   },
   {
    "duration": 156,
    "start_time": "2024-12-31T07:02:43.891Z"
   },
   {
    "duration": 3,
    "start_time": "2024-12-31T07:02:45.746Z"
   },
   {
    "duration": 12,
    "start_time": "2024-12-31T07:02:46.146Z"
   },
   {
    "duration": 15,
    "start_time": "2024-12-31T07:02:48.273Z"
   },
   {
    "duration": 1803,
    "start_time": "2024-12-31T07:02:48.698Z"
   },
   {
    "duration": 6,
    "start_time": "2024-12-31T07:02:51.362Z"
   },
   {
    "duration": 35,
    "start_time": "2024-12-31T07:02:51.898Z"
   },
   {
    "duration": 9,
    "start_time": "2024-12-31T07:02:54.538Z"
   },
   {
    "duration": 75,
    "start_time": "2024-12-31T07:04:23.836Z"
   },
   {
    "duration": 10,
    "start_time": "2024-12-31T07:06:05.562Z"
   },
   {
    "duration": 4,
    "start_time": "2024-12-31T07:06:47.530Z"
   },
   {
    "duration": 21,
    "start_time": "2024-12-31T07:06:48.042Z"
   },
   {
    "duration": 8,
    "start_time": "2024-12-31T07:06:48.077Z"
   },
   {
    "duration": 10,
    "start_time": "2024-12-31T07:06:48.562Z"
   },
   {
    "duration": 10,
    "start_time": "2024-12-31T07:06:48.946Z"
   },
   {
    "duration": 30,
    "start_time": "2024-12-31T07:06:50.090Z"
   },
   {
    "duration": 163,
    "start_time": "2024-12-31T07:06:50.499Z"
   },
   {
    "duration": 3,
    "start_time": "2024-12-31T07:06:51.490Z"
   },
   {
    "duration": 13,
    "start_time": "2024-12-31T07:06:51.888Z"
   },
   {
    "duration": 14,
    "start_time": "2024-12-31T07:06:52.450Z"
   },
   {
    "duration": 1849,
    "start_time": "2024-12-31T07:06:53.122Z"
   },
   {
    "duration": 6,
    "start_time": "2024-12-31T07:06:56.130Z"
   },
   {
    "duration": 83,
    "start_time": "2024-12-31T07:06:57.412Z"
   },
   {
    "duration": 8,
    "start_time": "2024-12-31T07:06:59.274Z"
   },
   {
    "duration": 442,
    "start_time": "2024-12-31T07:07:57.115Z"
   },
   {
    "duration": 4,
    "start_time": "2024-12-31T07:07:58.907Z"
   },
   {
    "duration": 88,
    "start_time": "2024-12-31T07:07:59.316Z"
   },
   {
    "duration": 7,
    "start_time": "2024-12-31T07:08:02.850Z"
   },
   {
    "duration": 10,
    "start_time": "2024-12-31T07:08:50.364Z"
   },
   {
    "duration": 14,
    "start_time": "2024-12-31T07:08:52.278Z"
   },
   {
    "duration": 553,
    "start_time": "2024-12-31T07:08:52.795Z"
   },
   {
    "duration": 4,
    "start_time": "2024-12-31T07:08:53.818Z"
   },
   {
    "duration": 90,
    "start_time": "2024-12-31T07:08:54.436Z"
   },
   {
    "duration": 7,
    "start_time": "2024-12-31T07:08:55.894Z"
   },
   {
    "duration": 9,
    "start_time": "2024-12-31T07:09:13.267Z"
   },
   {
    "duration": 15,
    "start_time": "2024-12-31T07:09:13.690Z"
   },
   {
    "duration": 527,
    "start_time": "2024-12-31T07:09:14.030Z"
   },
   {
    "duration": 5,
    "start_time": "2024-12-31T07:09:16.817Z"
   },
   {
    "duration": 90,
    "start_time": "2024-12-31T07:09:18.506Z"
   },
   {
    "duration": 8,
    "start_time": "2024-12-31T07:09:20.186Z"
   },
   {
    "duration": 4,
    "start_time": "2024-12-31T07:10:04.052Z"
   },
   {
    "duration": 18,
    "start_time": "2024-12-31T07:10:04.565Z"
   },
   {
    "duration": 8,
    "start_time": "2024-12-31T07:10:04.598Z"
   },
   {
    "duration": 9,
    "start_time": "2024-12-31T07:10:04.630Z"
   },
   {
    "duration": 9,
    "start_time": "2024-12-31T07:10:04.661Z"
   },
   {
    "duration": 29,
    "start_time": "2024-12-31T07:10:04.754Z"
   },
   {
    "duration": 155,
    "start_time": "2024-12-31T07:10:04.785Z"
   },
   {
    "duration": 4,
    "start_time": "2024-12-31T07:10:04.943Z"
   },
   {
    "duration": 13,
    "start_time": "2024-12-31T07:10:04.949Z"
   },
   {
    "duration": 14,
    "start_time": "2024-12-31T07:10:04.964Z"
   },
   {
    "duration": 512,
    "start_time": "2024-12-31T07:10:05.540Z"
   },
   {
    "duration": 5,
    "start_time": "2024-12-31T07:10:06.172Z"
   },
   {
    "duration": 81,
    "start_time": "2024-12-31T07:10:06.475Z"
   },
   {
    "duration": 7,
    "start_time": "2024-12-31T07:10:06.770Z"
   },
   {
    "duration": 325,
    "start_time": "2024-12-31T07:19:19.128Z"
   },
   {
    "duration": 6982,
    "start_time": "2024-12-31T07:19:30.490Z"
   },
   {
    "duration": 466,
    "start_time": "2024-12-31T07:24:47.484Z"
   },
   {
    "duration": 440,
    "start_time": "2024-12-31T07:25:33.924Z"
   },
   {
    "duration": 471,
    "start_time": "2024-12-31T07:25:54.484Z"
   },
   {
    "duration": 527,
    "start_time": "2024-12-31T07:26:02.925Z"
   },
   {
    "duration": 12,
    "start_time": "2024-12-31T07:26:10.825Z"
   },
   {
    "duration": 7,
    "start_time": "2024-12-31T07:26:49.921Z"
   },
   {
    "duration": 171,
    "start_time": "2024-12-31T07:28:28.080Z"
   },
   {
    "duration": 216,
    "start_time": "2024-12-31T07:39:07.742Z"
   },
   {
    "duration": 3,
    "start_time": "2024-12-31T07:42:55.445Z"
   },
   {
    "duration": 20,
    "start_time": "2024-12-31T07:42:55.941Z"
   },
   {
    "duration": 8,
    "start_time": "2024-12-31T07:42:55.972Z"
   },
   {
    "duration": 10,
    "start_time": "2024-12-31T07:42:56.002Z"
   },
   {
    "duration": 8,
    "start_time": "2024-12-31T07:42:56.050Z"
   },
   {
    "duration": 30,
    "start_time": "2024-12-31T07:42:56.140Z"
   },
   {
    "duration": 162,
    "start_time": "2024-12-31T07:42:56.178Z"
   },
   {
    "duration": 4,
    "start_time": "2024-12-31T07:42:56.343Z"
   },
   {
    "duration": 13,
    "start_time": "2024-12-31T07:42:56.348Z"
   },
   {
    "duration": 15,
    "start_time": "2024-12-31T07:42:56.364Z"
   },
   {
    "duration": 665,
    "start_time": "2024-12-31T07:42:56.381Z"
   },
   {
    "duration": 293,
    "start_time": "2024-12-31T07:42:57.050Z"
   },
   {
    "duration": 5,
    "start_time": "2024-12-31T07:42:57.345Z"
   },
   {
    "duration": 83,
    "start_time": "2024-12-31T07:42:57.445Z"
   },
   {
    "duration": 7032,
    "start_time": "2024-12-31T07:42:57.660Z"
   },
   {
    "duration": 9,
    "start_time": "2024-12-31T07:43:04.694Z"
   },
   {
    "duration": 42,
    "start_time": "2024-12-31T07:43:04.704Z"
   },
   {
    "duration": 495,
    "start_time": "2024-12-31T07:46:45.865Z"
   },
   {
    "duration": 996,
    "start_time": "2024-12-31T07:47:01.869Z"
   },
   {
    "duration": 499,
    "start_time": "2024-12-31T07:47:08.749Z"
   },
   {
    "duration": 4,
    "start_time": "2024-12-31T07:49:48.187Z"
   },
   {
    "duration": 18,
    "start_time": "2024-12-31T07:49:48.695Z"
   },
   {
    "duration": 8,
    "start_time": "2024-12-31T07:49:48.720Z"
   },
   {
    "duration": 10,
    "start_time": "2024-12-31T07:49:48.752Z"
   },
   {
    "duration": 9,
    "start_time": "2024-12-31T07:49:48.781Z"
   },
   {
    "duration": 30,
    "start_time": "2024-12-31T07:49:48.888Z"
   },
   {
    "duration": 160,
    "start_time": "2024-12-31T07:49:48.919Z"
   },
   {
    "duration": 4,
    "start_time": "2024-12-31T07:49:49.081Z"
   },
   {
    "duration": 15,
    "start_time": "2024-12-31T07:49:49.087Z"
   },
   {
    "duration": 46,
    "start_time": "2024-12-31T07:49:49.104Z"
   },
   {
    "duration": 592,
    "start_time": "2024-12-31T07:49:49.152Z"
   },
   {
    "duration": 302,
    "start_time": "2024-12-31T07:49:49.746Z"
   },
   {
    "duration": 16,
    "start_time": "2024-12-31T07:49:50.050Z"
   },
   {
    "duration": 0,
    "start_time": "2024-12-31T07:49:50.068Z"
   },
   {
    "duration": 0,
    "start_time": "2024-12-31T07:49:50.069Z"
   },
   {
    "duration": 0,
    "start_time": "2024-12-31T07:49:50.070Z"
   },
   {
    "duration": 0,
    "start_time": "2024-12-31T07:49:50.071Z"
   },
   {
    "duration": 25,
    "start_time": "2024-12-31T07:50:32.652Z"
   },
   {
    "duration": 3,
    "start_time": "2024-12-31T07:51:04.415Z"
   },
   {
    "duration": 20,
    "start_time": "2024-12-31T07:51:04.917Z"
   },
   {
    "duration": 9,
    "start_time": "2024-12-31T07:51:04.948Z"
   },
   {
    "duration": 12,
    "start_time": "2024-12-31T07:51:04.995Z"
   },
   {
    "duration": 9,
    "start_time": "2024-12-31T07:51:05.028Z"
   },
   {
    "duration": 30,
    "start_time": "2024-12-31T07:51:05.120Z"
   },
   {
    "duration": 174,
    "start_time": "2024-12-31T07:51:05.153Z"
   },
   {
    "duration": 5,
    "start_time": "2024-12-31T07:51:05.328Z"
   },
   {
    "duration": 14,
    "start_time": "2024-12-31T07:51:05.343Z"
   },
   {
    "duration": 84,
    "start_time": "2024-12-31T07:51:05.359Z"
   },
   {
    "duration": 610,
    "start_time": "2024-12-31T07:51:05.444Z"
   },
   {
    "duration": 288,
    "start_time": "2024-12-31T07:51:06.056Z"
   },
   {
    "duration": 22,
    "start_time": "2024-12-31T07:51:06.347Z"
   },
   {
    "duration": 210,
    "start_time": "2024-12-31T07:51:06.370Z"
   },
   {
    "duration": 11766,
    "start_time": "2024-12-31T07:51:06.581Z"
   },
   {
    "duration": 1793,
    "start_time": "2024-12-31T07:51:18.350Z"
   },
   {
    "duration": 518,
    "start_time": "2024-12-31T07:51:20.144Z"
   },
   {
    "duration": 18,
    "start_time": "2024-12-31T08:02:05.525Z"
   },
   {
    "duration": 557,
    "start_time": "2024-12-31T08:02:53.855Z"
   },
   {
    "duration": 82,
    "start_time": "2024-12-31T08:03:18.471Z"
   },
   {
    "duration": 3,
    "start_time": "2024-12-31T08:03:31.053Z"
   },
   {
    "duration": 22,
    "start_time": "2024-12-31T08:03:31.439Z"
   },
   {
    "duration": 9,
    "start_time": "2024-12-31T08:03:31.703Z"
   },
   {
    "duration": 10,
    "start_time": "2024-12-31T08:03:32.038Z"
   },
   {
    "duration": 9,
    "start_time": "2024-12-31T08:03:32.376Z"
   },
   {
    "duration": 30,
    "start_time": "2024-12-31T08:03:33.506Z"
   },
   {
    "duration": 163,
    "start_time": "2024-12-31T08:03:35.135Z"
   },
   {
    "duration": 482,
    "start_time": "2024-12-31T08:03:36.255Z"
   },
   {
    "duration": 838,
    "start_time": "2024-12-31T08:04:08.770Z"
   },
   {
    "duration": 258,
    "start_time": "2024-12-31T08:12:43.231Z"
   },
   {
    "duration": 231,
    "start_time": "2024-12-31T08:13:39.480Z"
   },
   {
    "duration": 157,
    "start_time": "2024-12-31T08:13:56.615Z"
   },
   {
    "duration": 3,
    "start_time": "2024-12-31T08:14:20.056Z"
   },
   {
    "duration": 19,
    "start_time": "2024-12-31T08:14:20.552Z"
   },
   {
    "duration": 8,
    "start_time": "2024-12-31T08:14:20.595Z"
   },
   {
    "duration": 10,
    "start_time": "2024-12-31T08:14:20.613Z"
   },
   {
    "duration": 9,
    "start_time": "2024-12-31T08:14:20.659Z"
   },
   {
    "duration": 30,
    "start_time": "2024-12-31T08:14:21.767Z"
   },
   {
    "duration": 159,
    "start_time": "2024-12-31T08:14:22.144Z"
   },
   {
    "duration": 721,
    "start_time": "2024-12-31T08:14:22.567Z"
   },
   {
    "duration": 165,
    "start_time": "2024-12-31T08:14:23.291Z"
   },
   {
    "duration": 4,
    "start_time": "2024-12-31T08:17:44.736Z"
   },
   {
    "duration": 19,
    "start_time": "2024-12-31T08:17:45.271Z"
   },
   {
    "duration": 9,
    "start_time": "2024-12-31T08:17:45.292Z"
   },
   {
    "duration": 10,
    "start_time": "2024-12-31T08:17:45.306Z"
   },
   {
    "duration": 8,
    "start_time": "2024-12-31T08:17:45.333Z"
   },
   {
    "duration": 29,
    "start_time": "2024-12-31T08:17:45.428Z"
   },
   {
    "duration": 165,
    "start_time": "2024-12-31T08:17:45.462Z"
   },
   {
    "duration": 707,
    "start_time": "2024-12-31T08:17:45.629Z"
   },
   {
    "duration": 162,
    "start_time": "2024-12-31T08:17:46.342Z"
   },
   {
    "duration": 5,
    "start_time": "2024-12-31T08:17:46.507Z"
   },
   {
    "duration": 12,
    "start_time": "2024-12-31T08:17:46.514Z"
   },
   {
    "duration": 29,
    "start_time": "2024-12-31T08:17:46.527Z"
   },
   {
    "duration": 609,
    "start_time": "2024-12-31T08:17:46.557Z"
   },
   {
    "duration": 286,
    "start_time": "2024-12-31T08:17:47.168Z"
   },
   {
    "duration": 23,
    "start_time": "2024-12-31T08:17:47.458Z"
   },
   {
    "duration": 174,
    "start_time": "2024-12-31T08:17:47.543Z"
   },
   {
    "duration": 11621,
    "start_time": "2024-12-31T08:17:47.719Z"
   },
   {
    "duration": 1714,
    "start_time": "2024-12-31T08:17:59.345Z"
   },
   {
    "duration": 495,
    "start_time": "2024-12-31T08:18:01.062Z"
   }
  ],
  "kernelspec": {
   "display_name": "Python [conda env:base] *",
   "language": "python",
   "name": "conda-base-py"
  },
  "language_info": {
   "codemirror_mode": {
    "name": "ipython",
    "version": 3
   },
   "file_extension": ".py",
   "mimetype": "text/x-python",
   "name": "python",
   "nbconvert_exporter": "python",
   "pygments_lexer": "ipython3",
   "version": "3.12.7"
  },
  "toc": {
   "base_numbering": 1,
   "nav_menu": {},
   "number_sections": true,
   "sideBar": true,
   "skip_h1_title": true,
   "title_cell": "Table of Contents",
   "title_sidebar": "Contents",
   "toc_cell": false,
   "toc_position": {},
   "toc_section_display": true,
   "toc_window_display": false
  }
 },
 "nbformat": 4,
 "nbformat_minor": 4
}
